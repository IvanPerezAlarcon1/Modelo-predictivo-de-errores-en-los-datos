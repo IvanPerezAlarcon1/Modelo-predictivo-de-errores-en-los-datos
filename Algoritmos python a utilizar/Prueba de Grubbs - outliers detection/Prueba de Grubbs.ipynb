{
 "cells": [
  {
   "cell_type": "markdown",
   "metadata": {},
   "source": [
    "La prueba de Grubbs de puede aplicar a conjuntos de datos numéricos UNIVARIANTES y con distribución normal"
   ]
  },
  {
   "cell_type": "markdown",
   "metadata": {},
   "source": [
    "https://www.youtube.com/watch?v=KGWbbAUcC0I&ab_channel=BhaveshBhatt"
   ]
  },
  {
   "cell_type": "code",
   "execution_count": 1,
   "metadata": {},
   "outputs": [],
   "source": [
    "import matplotlib.pyplot as plt\n",
    "import numpy as np\n",
    "import pandas as pd\n",
    "import scipy.stats as stats"
   ]
  },
  {
   "cell_type": "code",
   "execution_count": 2,
   "metadata": {},
   "outputs": [],
   "source": [
    "%matplotlib inline"
   ]
  },
  {
   "cell_type": "code",
   "execution_count": 27,
   "metadata": {},
   "outputs": [
    {
     "data": {
      "text/plain": [
       "array([0.83928687, 0.67306393, 0.78385182, 0.35822662, 0.414897  ,\n",
       "       0.92102217, 0.87220683, 0.78635895, 0.71775606, 0.54405927,\n",
       "       0.00945936, 0.75648075, 0.77850781, 0.20348398, 0.12967057,\n",
       "       0.75423306, 0.80363673, 0.41705099, 0.15343035, 0.91090012,\n",
       "       0.97820868, 0.84304473, 0.20398106, 0.95668952, 0.6314331 ,\n",
       "       0.87392268, 0.5466608 , 0.9004991 , 0.11343292, 0.15271183,\n",
       "       0.97943399, 0.84868778, 0.03813741, 0.54227263, 0.88938382,\n",
       "       0.88316749, 0.30107278, 0.15565755, 0.91697389, 0.87084259,\n",
       "       0.04929039, 0.8835383 , 0.78407798, 0.90237334, 0.10429517,\n",
       "       0.30561916, 0.38040633, 0.8511027 , 0.60466591, 0.93282743,\n",
       "       0.74260866, 0.93458254, 0.29065369, 0.12059344, 0.1028314 ,\n",
       "       0.24489939, 0.38235979, 0.29233783, 0.96171877, 0.72530888,\n",
       "       0.73625144, 0.00192976, 0.23043958, 0.11441087, 0.17468611,\n",
       "       0.71781227, 0.72637632, 0.32362412, 0.11356814, 0.23874133,\n",
       "       0.89670194, 0.02097506, 0.93941575, 0.13934973, 0.80914419,\n",
       "       0.57359793, 0.11877681, 0.43434105, 0.19454745, 0.70613875,\n",
       "       0.93772091, 0.63779135, 0.43141673, 0.36714338, 0.47180643,\n",
       "       0.99631135, 0.91814115, 0.03014695, 0.50160412, 0.14475783,\n",
       "       0.86839279, 0.71206715, 0.516029  , 0.35052137, 0.40995647,\n",
       "       0.82611554, 0.47560094, 0.99114246, 0.815077  , 0.60506165])"
      ]
     },
     "execution_count": 27,
     "metadata": {},
     "output_type": "execute_result"
    }
   ],
   "source": [
    "y = np.random.random(100)\n",
    "x = np.arange(len(y))\n",
    "y"
   ]
  },
  {
   "cell_type": "code",
   "execution_count": 28,
   "metadata": {},
   "outputs": [
    {
     "data": {
      "text/plain": [
       "array([ 0,  1,  2,  3,  4,  5,  6,  7,  8,  9, 10, 11, 12, 13, 14, 15, 16,\n",
       "       17, 18, 19, 20, 21, 22, 23, 24, 25, 26, 27, 28, 29, 30, 31, 32, 33,\n",
       "       34, 35, 36, 37, 38, 39, 40, 41, 42, 43, 44, 45, 46, 47, 48, 49, 50,\n",
       "       51, 52, 53, 54, 55, 56, 57, 58, 59, 60, 61, 62, 63, 64, 65, 66, 67,\n",
       "       68, 69, 70, 71, 72, 73, 74, 75, 76, 77, 78, 79, 80, 81, 82, 83, 84,\n",
       "       85, 86, 87, 88, 89, 90, 91, 92, 93, 94, 95, 96, 97, 98, 99])"
      ]
     },
     "execution_count": 28,
     "metadata": {},
     "output_type": "execute_result"
    }
   ],
   "source": [
    "x"
   ]
  },
  {
   "cell_type": "code",
   "execution_count": 29,
   "metadata": {},
   "outputs": [
    {
     "name": "stdout",
     "output_type": "stream",
     "text": [
      "0.9963113516455002 0.0019297565572488073\n"
     ]
    }
   ],
   "source": [
    "print(max(y),min(y))"
   ]
  },
  {
   "cell_type": "code",
   "execution_count": 30,
   "metadata": {},
   "outputs": [
    {
     "data": {
      "text/plain": [
       "<matplotlib.collections.PathCollection at 0x1cdb81fae80>"
      ]
     },
     "execution_count": 30,
     "metadata": {},
     "output_type": "execute_result"
    },
    {
     "data": {
      "image/png": "[encoded data removed]",
      "text/plain": [
       "<Figure size 432x288 with 1 Axes>"
      ]
     },
     "metadata": {
      "needs_background": "light"
     },
     "output_type": "display_data"
    }
   ],
   "source": [
    "plt.scatter(x,y)"
   ]
  },
  {
   "cell_type": "code",
   "execution_count": 31,
   "metadata": {},
   "outputs": [
    {
     "data": {
      "text/plain": [
       "array([8.39286865e-01, 6.73063929e-01, 7.83851821e-01, 3.58226623e-01,\n",
       "       4.14897005e-01, 9.21022175e-01, 8.72206833e-01, 7.86358954e-01,\n",
       "       7.17756062e-01, 5.44059268e-01, 9.45935776e-03, 7.56480754e-01,\n",
       "       7.78507813e-01, 2.03483979e-01, 9.00000000e+00, 7.54233064e-01,\n",
       "       8.03636733e-01, 4.17050994e-01, 1.53430352e-01, 9.10900124e-01,\n",
       "       9.78208679e-01, 8.43044730e-01, 2.03981061e-01, 9.56689525e-01,\n",
       "       6.31433098e-01, 8.73922682e-01, 5.46660799e-01, 9.00499095e-01,\n",
       "       1.13432919e-01, 1.52711833e-01, 9.79433995e-01, 8.48687781e-01,\n",
       "       3.81374142e-02, 5.42272633e-01, 8.89383815e-01, 8.83167490e-01,\n",
       "       3.01072782e-01, 1.55657551e-01, 9.16973895e-01, 8.70842594e-01,\n",
       "       4.92903894e-02, 8.83538304e-01, 7.84077984e-01, 9.02373344e-01,\n",
       "       1.04295168e-01, 3.05619163e-01, 3.80406333e-01, 8.51102699e-01,\n",
       "       6.04665908e-01, 9.32827429e-01, 7.42608660e-01, 9.34582538e-01,\n",
       "       2.90653691e-01, 1.20593439e-01, 1.02831402e-01, 2.44899387e-01,\n",
       "       3.82359786e-01, 2.92337834e-01, 9.61718769e-01, 7.25308880e-01,\n",
       "       7.36251438e-01, 1.92975656e-03, 2.30439581e-01, 1.14410865e-01,\n",
       "       1.74686109e-01, 7.17812275e-01, 7.26376322e-01, 3.23624122e-01,\n",
       "       1.13568143e-01, 2.38741331e-01, 8.96701945e-01, 2.09750590e-02,\n",
       "       9.39415751e-01, 1.39349731e-01, 8.09144190e-01, 5.73597933e-01,\n",
       "       1.18776809e-01, 4.34341048e-01, 1.94547449e-01, 7.06138747e-01,\n",
       "       9.37720908e-01, 6.37791352e-01, 4.31416729e-01, 1.00000000e+01,\n",
       "       4.71806425e-01, 9.96311352e-01, 9.18141154e-01, 3.01469530e-02,\n",
       "       5.01604118e-01, 1.44757826e-01, 8.68392793e-01, 7.12067151e-01,\n",
       "       5.16029003e-01, 3.50521366e-01, 4.09956473e-01, 8.26115539e-01,\n",
       "       4.75600940e-01, 9.91142456e-01, 8.15076997e-01, 6.05061652e-01])"
      ]
     },
     "execution_count": 31,
     "metadata": {},
     "output_type": "execute_result"
    }
   ],
   "source": [
    "#Inputación de outliers\n",
    "y[14] = 9\n",
    "y[83] = 10\n",
    "y"
   ]
  },
  {
   "cell_type": "code",
   "execution_count": 32,
   "metadata": {},
   "outputs": [
    {
     "data": {
      "text/plain": [
       "<matplotlib.collections.PathCollection at 0x1cdb7ffb2b0>"
      ]
     },
     "execution_count": 32,
     "metadata": {},
     "output_type": "execute_result"
    },
    {
     "data": {
      "image/png": "[encoded data removed]",
      "text/plain": [
       "<Figure size 432x288 with 1 Axes>"
      ]
     },
     "metadata": {
      "needs_background": "light"
     },
     "output_type": "display_data"
    }
   ],
   "source": [
    "plt.scatter(x,y)"
   ]
  },
  {
   "cell_type": "code",
   "execution_count": 12,
   "metadata": {},
   "outputs": [],
   "source": [
    "#Funcion para calcular las características G\n",
    "def grubbs_stat(y):\n",
    "    std_dev = np.std(y)\n",
    "    avg_y = np.mean(y)\n",
    "    abs_val_minus_avg = abs(y - avg_y)\n",
    "    max_of_deviations = max(abs_val_minus_avg)\n",
    "    max_ind = np.argmax(abs_val_minus_avg)\n",
    "    Gcal = max_of_deviations / std_dev\n",
    "    print (\"Grubbs Statistics value: {}\".format(Gcal))\n",
    "    return Gcal,max_ind"
   ]
  },
  {
   "cell_type": "code",
   "execution_count": 13,
   "metadata": {},
   "outputs": [],
   "source": [
    "def calculate_critical_value(size,alpha):\n",
    "    t_dist = stats.t.ppf(1 - alpha / (2* size),size - 2)\n",
    "    numerator = (size - 1) * np.sqrt(np.square(t_dist))\n",
    "    denominator = np.sqrt(size) * np.sqrt(size - 2 + np.square(t_dist))\n",
    "    critical_value = numerator / denominator\n",
    "    print(\"Grubbs critical value: {}\".format(critical_value))\n",
    "    return critical_value"
   ]
  },
  {
   "cell_type": "code",
   "execution_count": 14,
   "metadata": {},
   "outputs": [],
   "source": [
    "def check_G_values(Gs, Gc, inp, max_index):\n",
    "    if Gs > Gc:\n",
    "        print(\"{} is an outlier. G > G-critical: {:.4f} > {:.4f} \\n\".format(inp[max_index], Gs, Gc))\n",
    "    else:\n",
    "        print(\"{} is not an outlier. G > G-critical: {:.4f} > {:.4f} \\n\".format(inp[max_index],Gs,Gc))"
   ]
  },
  {
   "cell_type": "code",
   "execution_count": 15,
   "metadata": {},
   "outputs": [],
   "source": [
    "#PARAMETROS: VECTOR NUMERICO CON LOS DATOS A ANALIZAR, ALPHA = NIVEL DE SIGNIFICANCIA DEL TEST, NUMERO MAXIMO DE OUTLIERS A DETECTAR\n",
    "def ESD_Test(input_series, alpha, max_outliers):\n",
    "    for iterations in range (max_outliers):\n",
    "        Gcritical = calculate_critical_value(len(input_series), alpha)\n",
    "        Gstat, max_index = grubbs_stat(input_series)\n",
    "        check_G_values(Gstat, Gcritical, input_series, max_index)\n",
    "        input_series = np.delete(input_series, max_index)"
   ]
  },
  {
   "cell_type": "code",
   "execution_count": 33,
   "metadata": {},
   "outputs": [
    {
     "name": "stdout",
     "output_type": "stream",
     "text": [
      "Grubbs critical value: 3.384082902288351\n",
      "Grubbs Statistics value: 7.170119979648035\n",
      "10.0 is an outlier. G > G-critical: 7.1701 > 3.3841 \n",
      "\n",
      "Grubbs critical value: 3.380650508067058\n",
      "Grubbs Statistics value: 9.282795749893369\n",
      "9.0 is an outlier. G > G-critical: 9.2828 > 3.3807 \n",
      "\n",
      "Grubbs critical value: 3.377175980782947\n",
      "Grubbs Statistics value: 1.7718614659288172\n",
      "0.0019297565572488073 is not an outlier. G > G-critical: 1.7719 > 3.3772 \n",
      "\n"
     ]
    }
   ],
   "source": [
    "#se muestran 3 iteraciones en las cuales si el valor crítico de grubbs es mayor al estadistico de grubbs, es un outlier\n",
    "ESD_Test(y,0.05,3)"
   ]
  },
  {
   "cell_type": "code",
   "execution_count": 34,
   "metadata": {},
   "outputs": [
    {
     "name": "stdout",
     "output_type": "stream",
     "text": [
      "Grubbs critical value: 3.384082902288351\n",
      "Grubbs Statistics value: 7.170119979648035\n",
      "10.0 is an outlier. G > G-critical: 7.1701 > 3.3841 \n",
      "\n",
      "Grubbs critical value: 3.380650508067058\n",
      "Grubbs Statistics value: 9.282795749893369\n",
      "9.0 is an outlier. G > G-critical: 9.2828 > 3.3807 \n",
      "\n",
      "Grubbs critical value: 3.377175980782947\n",
      "Grubbs Statistics value: 1.7718614659288172\n",
      "0.0019297565572488073 is not an outlier. G > G-critical: 1.7719 > 3.3772 \n",
      "\n",
      "Grubbs critical value: 3.3736583400522497\n",
      "Grubbs Statistics value: 1.7862848169431325\n",
      "0.009459357761924969 is not an outlier. G > G-critical: 1.7863 > 3.3737 \n",
      "\n",
      "Grubbs critical value: 3.370096570986626\n",
      "Grubbs Statistics value: 1.7886802389635454\n",
      "0.020975058974666894 is not an outlier. G > G-critical: 1.7887 > 3.3701 \n",
      "\n",
      "Grubbs critical value: 3.3664896240676505\n",
      "Grubbs Statistics value: 1.7989176742155555\n",
      "0.03014695295972014 is not an outlier. G > G-critical: 1.7989 > 3.3665 \n",
      "\n",
      "Grubbs critical value: 3.362836413028039\n",
      "Grubbs Statistics value: 1.8137703206285352\n",
      "0.038137414205425935 is not an outlier. G > G-critical: 1.8138 > 3.3628 \n",
      "\n",
      "Grubbs critical value: 3.3591358131466618\n",
      "Grubbs Statistics value: 1.8189607045177076\n",
      "0.049290389350069685 is not an outlier. G > G-critical: 1.8190 > 3.3591 \n",
      "\n",
      "Grubbs critical value: 3.355386659445718\n",
      "Grubbs Statistics value: 1.6794376917274758\n",
      "0.10283140231174881 is not an outlier. G > G-critical: 1.6794 > 3.3554 \n",
      "\n",
      "Grubbs critical value: 3.3515877447813436\n",
      "Grubbs Statistics value: 1.710374262792901\n",
      "0.10429516793070503 is not an outlier. G > G-critical: 1.7104 > 3.3516 \n",
      "\n"
     ]
    }
   ],
   "source": [
    "ESD_Test(y,0.05,10)"
   ]
  },
  {
   "cell_type": "code",
   "execution_count": 37,
   "metadata": {},
   "outputs": [
    {
     "data": {
      "text/plain": [
       "<matplotlib.collections.PathCollection at 0x1cdb828f910>"
      ]
     },
     "execution_count": 37,
     "metadata": {},
     "output_type": "execute_result"
    },
    {
     "data": {
      "image/png": "[encoded data removed]",
      "text/plain": [
       "<Figure size 432x288 with 1 Axes>"
      ]
     },
     "metadata": {
      "needs_background": "light"
     },
     "output_type": "display_data"
    }
   ],
   "source": [
    "plt.scatter(x,y)"
   ]
  },
  {
   "cell_type": "code",
   "execution_count": 35,
   "metadata": {},
   "outputs": [],
   "source": [
    "y[18] = -8\n",
    "y[89] = -12"
   ]
  },
  {
   "cell_type": "code",
   "execution_count": 39,
   "metadata": {},
   "outputs": [
    {
     "name": "stdout",
     "output_type": "stream",
     "text": [
      "Grubbs critical value: 3.384082902288351\n",
      "Grubbs Statistics value: 6.262230882581157\n",
      "-12.0 is an outlier. G > G-critical: 6.2622 > 3.3841 \n",
      "\n",
      "Grubbs critical value: 3.380650508067058\n",
      "Grubbs Statistics value: 5.973651899141396\n",
      "10.0 is an outlier. G > G-critical: 5.9737 > 3.3807 \n",
      "\n",
      "Grubbs critical value: 3.377175980782947\n",
      "Grubbs Statistics value: 6.836694687661131\n",
      "-8.0 is an outlier. G > G-critical: 6.8367 > 3.3772 \n",
      "\n",
      "Grubbs critical value: 3.3736583400522497\n",
      "Grubbs Statistics value: 9.20608110313532\n",
      "9.0 is an outlier. G > G-critical: 9.2061 > 3.3737 \n",
      "\n",
      "Grubbs critical value: 3.370096570986626\n",
      "Grubbs Statistics value: 1.8129590573658294\n",
      "0.0019297565572488073 is not an outlier. G > G-critical: 1.8130 > 3.3701 \n",
      "\n",
      "Grubbs critical value: 3.3664896240676505\n",
      "Grubbs Statistics value: 1.8304052542175089\n",
      "0.009459357761924969 is not an outlier. G > G-critical: 1.8304 > 3.3665 \n",
      "\n",
      "Grubbs critical value: 3.362836413028039\n",
      "Grubbs Statistics value: 1.8359499486276756\n",
      "0.020975058974666894 is not an outlier. G > G-critical: 1.8359 > 3.3628 \n",
      "\n",
      "Grubbs critical value: 3.3591358131466618\n",
      "Grubbs Statistics value: 1.8496274677374323\n",
      "0.03014695295972014 is not an outlier. G > G-critical: 1.8496 > 3.3591 \n",
      "\n",
      "Grubbs critical value: 3.355386659445718\n",
      "Grubbs Statistics value: 1.8682431118147698\n",
      "0.038137414205425935 is not an outlier. G > G-critical: 1.8682 > 3.3554 \n",
      "\n",
      "Grubbs critical value: 3.3515877447813436\n",
      "Grubbs Statistics value: 1.8773809536414383\n",
      "0.049290389350069685 is not an outlier. G > G-critical: 1.8774 > 3.3516 \n",
      "\n"
     ]
    }
   ],
   "source": [
    "ESD_Test(y,0.05,10)"
   ]
  },
  {
   "cell_type": "markdown",
   "metadata": {},
   "source": [
    " "
   ]
  },
  {
   "cell_type": "markdown",
   "metadata": {},
   "source": [
    "https://statologos.jaol.net/grubbs-test-python/"
   ]
  },
  {
   "cell_type": "code",
   "execution_count": 8,
   "metadata": {},
   "outputs": [],
   "source": [
    "from outliers import smirnov_grubbs as grubbs\n",
    "import numpy as np\n",
    "import pandas as pd"
   ]
  },
  {
   "cell_type": "code",
   "execution_count": 16,
   "metadata": {},
   "outputs": [],
   "source": [
    "datos = np.array([-70, 5, 14, 15, 15, 14, 19, 17, 16,-60, 20, 22, 8, 21, 28, 11, 9, 29, 40])"
   ]
  },
  {
   "cell_type": "code",
   "execution_count": 17,
   "metadata": {},
   "outputs": [
    {
     "data": {
      "text/plain": [
       "array([ 5, 14, 15, 15, 14, 19, 17, 16, 20, 22,  8, 21, 28, 11,  9, 29])"
      ]
     },
     "execution_count": 17,
     "metadata": {},
     "output_type": "execute_result"
    }
   ],
   "source": [
    "#Prueba de grubbs detectando valores atípicos por ambos lados\n",
    "grubbs.test(datos,alpha = 0.05)"
   ]
  },
  {
   "cell_type": "code",
   "execution_count": 26,
   "metadata": {},
   "outputs": [],
   "source": [
    "#Prueba de grubss unilateral, detecta el valor mínimo y el máximod el conjunto de datos\n",
    "datos1 = np.array ([5, 14,-100, 15, 15, 14, 19, 17, 16, 20, 22, 8, 21, 28, 11, 9, 29, 40])"
   ]
  },
  {
   "cell_type": "code",
   "execution_count": 27,
   "metadata": {},
   "outputs": [
    {
     "data": {
      "text/plain": [
       "[2]"
      ]
     },
     "execution_count": 27,
     "metadata": {},
     "output_type": "execute_result"
    }
   ],
   "source": [
    "#Retorna el indice del valor outlier de menor valor, en caso de no existir outliers no arrroja nada, tampoco el menor valor del conjunto numerico\n",
    "grubbs.min_test_indices(datos1,alpha = 0.05)"
   ]
  },
  {
   "cell_type": "code",
   "execution_count": 28,
   "metadata": {},
   "outputs": [
    {
     "data": {
      "text/plain": [
       "[]"
      ]
     },
     "execution_count": 28,
     "metadata": {},
     "output_type": "execute_result"
    }
   ],
   "source": [
    "#Retorna el índice del outlier de valor máximo, si no hay outliers no retorna el indice del mayor valor del conjunto, en dicho caso no retorna nada\n",
    "grubbs.max_test_indices(datos1,alpha = 0.05)"
   ]
  },
  {
   "cell_type": "code",
   "execution_count": 57,
   "metadata": {},
   "outputs": [],
   "source": [
    "datos3 = np.array ([5, 14, 15, 15, 14,19, 17, 16, 20, 22, 8, 21, 28, 11, 9, 29, 40,90])"
   ]
  },
  {
   "cell_type": "code",
   "execution_count": 42,
   "metadata": {},
   "outputs": [
    {
     "data": {
      "text/plain": [
       "array([ 5, 14, 15, 15, 14, 19, 17, 16, 20, 22,  8, 21, 28, 11,  9, 29])"
      ]
     },
     "execution_count": 42,
     "metadata": {},
     "output_type": "execute_result"
    }
   ],
   "source": [
    "#Quita el outlier de valor máximo\n",
    "grubbs.max_test(datos3,alpha = 0.05)"
   ]
  },
  {
   "cell_type": "code",
   "execution_count": 43,
   "metadata": {},
   "outputs": [
    {
     "data": {
      "text/plain": [
       "array([ 5, 14, 15, 15, 14, 19, 17, 16, 20, 22,  8, 21, 28, 11,  9, 29, 40])"
      ]
     },
     "execution_count": 43,
     "metadata": {},
     "output_type": "execute_result"
    }
   ],
   "source": [
    "#quita el outlier de valor mínimo\n",
    "grubbs.min_test(datos3,alpha = 0.05)"
   ]
  },
  {
   "cell_type": "code",
   "execution_count": 58,
   "metadata": {},
   "outputs": [
    {
     "data": {
      "text/plain": [
       "[90, 40]"
      ]
     },
     "execution_count": 58,
     "metadata": {},
     "output_type": "execute_result"
    }
   ],
   "source": [
    "#Como extraer el valor de LOS outliers encontrados maximos, si no hay no retorna nada\n",
    "grubbs.max_test_outliers(datos3,alpha = 0.05)"
   ]
  },
  {
   "cell_type": "code",
   "execution_count": 59,
   "metadata": {},
   "outputs": [],
   "source": [
    "datos4 = np.array ([5, 14, 15, 15, 14,19,-1000,-1090, 17, 16, 20, 22, 8, 21, 28, 11, 9, 29, 40,90])"
   ]
  },
  {
   "cell_type": "code",
   "execution_count": 62,
   "metadata": {},
   "outputs": [
    {
     "data": {
      "text/plain": [
       "[-1090, -1000]"
      ]
     },
     "execution_count": 62,
     "metadata": {},
     "output_type": "execute_result"
    }
   ],
   "source": [
    "#Como extraer los valores de los outliers mínimos\n",
    "grubbs.min_test_outliers(datos4,alpha = 0.05)"
   ]
  },
  {
   "cell_type": "code",
   "execution_count": null,
   "metadata": {},
   "outputs": [],
   "source": []
  }
 ],
 "metadata": {
  "kernelspec": {
   "display_name": "Python 3",
   "language": "python",
   "name": "python3"
  },
  "language_info": {
   "codemirror_mode": {
    "name": "ipython",
    "version": 3
   },
   "file_extension": ".py",
   "mimetype": "text/x-python",
   "name": "python",
   "nbconvert_exporter": "python",
   "pygments_lexer": "ipython3",
   "version": "3.8.3"
  }
 },
 "nbformat": 4,
 "nbformat_minor": 4
}
