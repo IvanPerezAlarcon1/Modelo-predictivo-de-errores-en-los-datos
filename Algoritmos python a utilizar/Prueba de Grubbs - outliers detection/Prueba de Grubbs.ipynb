{
 "cells": [
  {
   "cell_type": "markdown",
   "metadata": {},
   "source": [
    "La prueba de Grubbs de puede aplicar a conjuntos de datos numéricos UNIVARIANTES y con distribución normal"
   ]
  },
  {
   "cell_type": "markdown",
   "metadata": {},
   "source": [
    "https://www.youtube.com/watch?v=KGWbbAUcC0I&ab_channel=BhaveshBhatt"
   ]
  },
  {
   "cell_type": "code",
   "execution_count": 36,
   "metadata": {},
   "outputs": [],
   "source": [
    "import matplotlib.pyplot as plt\n",
    "import numpy as np\n",
    "import pandas as pd\n",
    "import scipy.stats as stats"
   ]
  },
  {
   "cell_type": "code",
   "execution_count": 37,
   "metadata": {},
   "outputs": [],
   "source": [
    "%matplotlib inline"
   ]
  },
  {
   "cell_type": "code",
   "execution_count": 38,
   "metadata": {},
   "outputs": [
    {
     "data": {
      "text/plain": [
       "array([3.63192008e-01, 4.80489404e-01, 7.00897045e-01, 9.02106145e-01,\n",
       "       5.08085704e-01, 8.73403254e-01, 9.39637352e-01, 2.93758836e-01,\n",
       "       7.86204981e-01, 2.73917791e-01, 3.25004104e-01, 9.94104560e-01,\n",
       "       1.89791999e-01, 5.52860446e-01, 2.67757959e-01, 4.98175552e-01,\n",
       "       1.27133217e-01, 3.49562492e-01, 8.50657319e-01, 3.91534841e-01,\n",
       "       5.54195002e-02, 4.36675144e-01, 7.81730686e-01, 9.39795904e-01,\n",
       "       4.28982078e-01, 1.99095446e-05, 4.09412559e-01, 9.58022585e-01,\n",
       "       6.43038492e-01, 8.05284072e-02, 5.64749219e-01, 3.71539633e-01,\n",
       "       3.12489385e-01, 7.36983574e-01, 2.12782128e-01, 4.87602276e-01,\n",
       "       2.14883424e-01, 1.72956422e-01, 8.11453777e-01, 4.12523800e-01,\n",
       "       9.12565660e-01, 3.51723931e-01, 9.02271066e-01, 8.78700648e-01,\n",
       "       5.11508478e-01, 5.26313477e-01, 2.40506639e-02, 8.92860482e-01,\n",
       "       1.71045275e-01, 1.87384432e-01, 1.10493172e-01, 7.28899564e-01,\n",
       "       6.15168545e-01, 3.03141024e-01, 9.16694356e-01, 5.01429254e-01,\n",
       "       6.84147151e-01, 9.24032421e-01, 7.49459434e-01, 9.12439158e-01,\n",
       "       8.35838263e-01, 2.70766177e-01, 8.51666724e-01, 3.97399723e-01,\n",
       "       9.06133450e-01, 3.99119630e-01, 4.14786546e-01, 6.01566643e-01,\n",
       "       7.39666414e-02, 4.70268627e-01, 5.39514848e-01, 4.18628805e-01,\n",
       "       2.60045090e-01, 2.88425983e-01, 2.49486967e-01, 4.17800757e-01,\n",
       "       9.41494883e-01, 6.73909729e-02, 1.56711044e-01, 8.17173239e-01,\n",
       "       7.38962484e-01, 2.95067404e-01, 9.79614954e-01, 3.30806985e-01,\n",
       "       9.27326506e-01, 8.04543729e-01, 7.14716886e-01, 9.98084688e-02,\n",
       "       4.92280832e-02, 1.29592791e-01, 9.59443186e-01, 1.64228032e-01,\n",
       "       7.19945684e-01, 1.60617311e-01, 6.42649180e-01, 2.36920651e-01,\n",
       "       5.72410579e-01, 2.53609335e-01, 3.43213239e-01, 8.45508906e-01])"
      ]
     },
     "execution_count": 38,
     "metadata": {},
     "output_type": "execute_result"
    }
   ],
   "source": [
    "y = np.random.random(100)\n",
    "x = np.arange(len(y))\n",
    "y"
   ]
  },
  {
   "cell_type": "code",
   "execution_count": 39,
   "metadata": {},
   "outputs": [
    {
     "data": {
      "text/plain": [
       "array([ 0,  1,  2,  3,  4,  5,  6,  7,  8,  9, 10, 11, 12, 13, 14, 15, 16,\n",
       "       17, 18, 19, 20, 21, 22, 23, 24, 25, 26, 27, 28, 29, 30, 31, 32, 33,\n",
       "       34, 35, 36, 37, 38, 39, 40, 41, 42, 43, 44, 45, 46, 47, 48, 49, 50,\n",
       "       51, 52, 53, 54, 55, 56, 57, 58, 59, 60, 61, 62, 63, 64, 65, 66, 67,\n",
       "       68, 69, 70, 71, 72, 73, 74, 75, 76, 77, 78, 79, 80, 81, 82, 83, 84,\n",
       "       85, 86, 87, 88, 89, 90, 91, 92, 93, 94, 95, 96, 97, 98, 99])"
      ]
     },
     "execution_count": 39,
     "metadata": {},
     "output_type": "execute_result"
    }
   ],
   "source": [
    "x"
   ]
  },
  {
   "cell_type": "code",
   "execution_count": 40,
   "metadata": {},
   "outputs": [
    {
     "name": "stdout",
     "output_type": "stream",
     "text": [
      "0.9941045603628523 1.990954463315653e-05\n"
     ]
    }
   ],
   "source": [
    "print(max(y),min(y))"
   ]
  },
  {
   "cell_type": "code",
   "execution_count": 41,
   "metadata": {},
   "outputs": [
    {
     "data": {
      "text/plain": [
       "<matplotlib.collections.PathCollection at 0x1e08f88efd0>"
      ]
     },
     "execution_count": 41,
     "metadata": {},
     "output_type": "execute_result"
    },
    {
     "data": {
      "image/png": "[encoded data removed]",
      "text/plain": [
       "<Figure size 432x288 with 1 Axes>"
      ]
     },
     "metadata": {
      "needs_background": "light"
     },
     "output_type": "display_data"
    }
   ],
   "source": [
    "plt.scatter(x,y)"
   ]
  },
  {
   "cell_type": "code",
   "execution_count": 42,
   "metadata": {},
   "outputs": [
    {
     "data": {
      "text/plain": [
       "array([3.63192008e-01, 4.80489404e-01, 7.00897045e-01, 9.02106145e-01,\n",
       "       5.08085704e-01, 8.73403254e-01, 9.39637352e-01, 2.93758836e-01,\n",
       "       7.86204981e-01, 2.73917791e-01, 3.25004104e-01, 9.94104560e-01,\n",
       "       1.89791999e-01, 5.52860446e-01, 9.00000000e+00, 4.98175552e-01,\n",
       "       1.27133217e-01, 3.49562492e-01, 8.50657319e-01, 3.91534841e-01,\n",
       "       5.54195002e-02, 4.36675144e-01, 7.81730686e-01, 9.39795904e-01,\n",
       "       4.28982078e-01, 1.99095446e-05, 4.09412559e-01, 9.58022585e-01,\n",
       "       6.43038492e-01, 8.05284072e-02, 5.64749219e-01, 3.71539633e-01,\n",
       "       3.12489385e-01, 7.36983574e-01, 2.12782128e-01, 4.87602276e-01,\n",
       "       2.14883424e-01, 1.72956422e-01, 8.11453777e-01, 4.12523800e-01,\n",
       "       9.12565660e-01, 3.51723931e-01, 9.02271066e-01, 8.78700648e-01,\n",
       "       5.11508478e-01, 5.26313477e-01, 2.40506639e-02, 8.92860482e-01,\n",
       "       1.71045275e-01, 1.87384432e-01, 1.10493172e-01, 7.28899564e-01,\n",
       "       6.15168545e-01, 3.03141024e-01, 9.16694356e-01, 5.01429254e-01,\n",
       "       6.84147151e-01, 9.24032421e-01, 7.49459434e-01, 9.12439158e-01,\n",
       "       8.35838263e-01, 2.70766177e-01, 8.51666724e-01, 3.97399723e-01,\n",
       "       9.06133450e-01, 3.99119630e-01, 4.14786546e-01, 6.01566643e-01,\n",
       "       7.39666414e-02, 4.70268627e-01, 5.39514848e-01, 4.18628805e-01,\n",
       "       2.60045090e-01, 2.88425983e-01, 2.49486967e-01, 4.17800757e-01,\n",
       "       9.41494883e-01, 6.73909729e-02, 1.56711044e-01, 8.17173239e-01,\n",
       "       7.38962484e-01, 2.95067404e-01, 9.79614954e-01, 1.00000000e+01,\n",
       "       9.27326506e-01, 8.04543729e-01, 7.14716886e-01, 9.98084688e-02,\n",
       "       4.92280832e-02, 1.29592791e-01, 9.59443186e-01, 1.64228032e-01,\n",
       "       7.19945684e-01, 1.60617311e-01, 6.42649180e-01, 2.36920651e-01,\n",
       "       5.72410579e-01, 2.53609335e-01, 3.43213239e-01, 8.45508906e-01])"
      ]
     },
     "execution_count": 42,
     "metadata": {},
     "output_type": "execute_result"
    }
   ],
   "source": [
    "#Inputación de outliers\n",
    "y[14] = 9\n",
    "y[83] = 10\n",
    "y"
   ]
  },
  {
   "cell_type": "code",
   "execution_count": 43,
   "metadata": {},
   "outputs": [
    {
     "data": {
      "text/plain": [
       "<matplotlib.collections.PathCollection at 0x1e090909f70>"
      ]
     },
     "execution_count": 43,
     "metadata": {},
     "output_type": "execute_result"
    },
    {
     "data": {
      "image/png": "[encoded data removed]",
      "text/plain": [
       "<Figure size 432x288 with 1 Axes>"
      ]
     },
     "metadata": {
      "needs_background": "light"
     },
     "output_type": "display_data"
    }
   ],
   "source": [
    "plt.scatter(x,y)"
   ]
  },
  {
   "cell_type": "code",
   "execution_count": 44,
   "metadata": {},
   "outputs": [],
   "source": [
    "#Funcion para calcular las características G\n",
    "def grubbs_stat(y):\n",
    "    std_dev = np.std(y)\n",
    "    avg_y = np.mean(y)\n",
    "    abs_val_minus_avg = abs(y - avg_y)\n",
    "    max_of_deviations = max(abs_val_minus_avg)\n",
    "    max_ind = np.argmax(abs_val_minus_avg)\n",
    "    Gcal = max_of_deviations / std_dev\n",
    "    print (\"Grubbs Statistics value: {}\".format(Gcal))\n",
    "    return Gcal,max_ind"
   ]
  },
  {
   "cell_type": "code",
   "execution_count": 45,
   "metadata": {},
   "outputs": [],
   "source": [
    "def calculate_critical_value(size,alpha):\n",
    "    t_dist = stats.t.ppf(1 - alpha / (2* size),size - 2)\n",
    "    numerator = (size - 1) * np.sqrt(np.square(t_dist))\n",
    "    denominator = np.sqrt(size) * np.sqrt(size - 2 + np.square(t_dist))\n",
    "    critical_value = numerator / denominator\n",
    "    print(\"Grubbs critical value: {}\".format(critical_value))\n",
    "    return critical_value"
   ]
  },
  {
   "cell_type": "code",
   "execution_count": 46,
   "metadata": {},
   "outputs": [],
   "source": [
    "def check_G_values(Gs, Gc, inp, max_index):\n",
    "    if Gs > Gc:\n",
    "        print(\"{} is an outlier. G > G-critical: {:.4f} > {:.4f} \\n\".format(inp[max_index], Gs, Gc))\n",
    "    else:\n",
    "        print(\"{} is not an outlier. G > G-critical: {:.4f} > {:.4f} \\n\".format(inp[max_index],Gs,Gc))"
   ]
  },
  {
   "cell_type": "code",
   "execution_count": 47,
   "metadata": {},
   "outputs": [],
   "source": [
    "#PARAMETROS: VECTOR NUMERICO CON LOS DATOS A ANALIZAR, ALPHA = NIVEL DE SIGNIFICANCIA DEL TEST, NUMERO MAXIMO DE OUTLIERS A DETECTAR\n",
    "def ESD_Test(input_series, alpha, max_outliers):\n",
    "    for iterations in range (max_outliers):\n",
    "        Gcritical = calculate_critical_value(len(input_series), alpha)\n",
    "        Gstat, max_index = grubbs_stat(input_series)\n",
    "        check_G_values(Gstat, Gcritical, input_series, max_index)\n",
    "        input_series = np.delete(input_series, max_index)"
   ]
  },
  {
   "cell_type": "code",
   "execution_count": 48,
   "metadata": {},
   "outputs": [
    {
     "name": "stdout",
     "output_type": "stream",
     "text": [
      "Grubbs critical value: 3.384082902288351\n",
      "Grubbs Statistics value: 7.198492516304293\n",
      "10.0 is an outlier. G > G-critical: 7.1985 > 3.3841 \n",
      "\n",
      "Grubbs critical value: 3.380650508067058\n",
      "Grubbs Statistics value: 9.365142540735338\n",
      "9.0 is an outlier. G > G-critical: 9.3651 > 3.3807 \n",
      "\n",
      "Grubbs critical value: 3.377175980782947\n",
      "Grubbs Statistics value: 1.7546183014516616\n",
      "1.990954463315653e-05 is not an outlier. G > G-critical: 1.7546 > 3.3772 \n",
      "\n"
     ]
    }
   ],
   "source": [
    "#se muestran 3 iteraciones en las cuales si el valor crítico de grubbs es mayor al estadistico de grubbs, es un outlier\n",
    "ESD_Test(y,0.05,3)"
   ]
  },
  {
   "cell_type": "code",
   "execution_count": 34,
   "metadata": {},
   "outputs": [
    {
     "name": "stdout",
     "output_type": "stream",
     "text": [
      "Grubbs critical value: 3.384082902288351\n",
      "Grubbs Statistics value: 7.170119979648035\n",
      "10.0 is an outlier. G > G-critical: 7.1701 > 3.3841 \n",
      "\n",
      "Grubbs critical value: 3.380650508067058\n",
      "Grubbs Statistics value: 9.282795749893369\n",
      "9.0 is an outlier. G > G-critical: 9.2828 > 3.3807 \n",
      "\n",
      "Grubbs critical value: 3.377175980782947\n",
      "Grubbs Statistics value: 1.7718614659288172\n",
      "0.0019297565572488073 is not an outlier. G > G-critical: 1.7719 > 3.3772 \n",
      "\n",
      "Grubbs critical value: 3.3736583400522497\n",
      "Grubbs Statistics value: 1.7862848169431325\n",
      "0.009459357761924969 is not an outlier. G > G-critical: 1.7863 > 3.3737 \n",
      "\n",
      "Grubbs critical value: 3.370096570986626\n",
      "Grubbs Statistics value: 1.7886802389635454\n",
      "0.020975058974666894 is not an outlier. G > G-critical: 1.7887 > 3.3701 \n",
      "\n",
      "Grubbs critical value: 3.3664896240676505\n",
      "Grubbs Statistics value: 1.7989176742155555\n",
      "0.03014695295972014 is not an outlier. G > G-critical: 1.7989 > 3.3665 \n",
      "\n",
      "Grubbs critical value: 3.362836413028039\n",
      "Grubbs Statistics value: 1.8137703206285352\n",
      "0.038137414205425935 is not an outlier. G > G-critical: 1.8138 > 3.3628 \n",
      "\n",
      "Grubbs critical value: 3.3591358131466618\n",
      "Grubbs Statistics value: 1.8189607045177076\n",
      "0.049290389350069685 is not an outlier. G > G-critical: 1.8190 > 3.3591 \n",
      "\n",
      "Grubbs critical value: 3.355386659445718\n",
      "Grubbs Statistics value: 1.6794376917274758\n",
      "0.10283140231174881 is not an outlier. G > G-critical: 1.6794 > 3.3554 \n",
      "\n",
      "Grubbs critical value: 3.3515877447813436\n",
      "Grubbs Statistics value: 1.710374262792901\n",
      "0.10429516793070503 is not an outlier. G > G-critical: 1.7104 > 3.3516 \n",
      "\n"
     ]
    }
   ],
   "source": [
    "ESD_Test(y,0.05,10)"
   ]
  },
  {
   "cell_type": "code",
   "execution_count": 37,
   "metadata": {},
   "outputs": [
    {
     "data": {
      "text/plain": [
       "<matplotlib.collections.PathCollection at 0x1cdb828f910>"
      ]
     },
     "execution_count": 37,
     "metadata": {},
     "output_type": "execute_result"
    },
    {
     "data": {
      "image/png": "[encoded data removed]",
      "text/plain": [
       "<Figure size 432x288 with 1 Axes>"
      ]
     },
     "metadata": {
      "needs_background": "light"
     },
     "output_type": "display_data"
    }
   ],
   "source": [
    "plt.scatter(x,y)"
   ]
  },
  {
   "cell_type": "code",
   "execution_count": 35,
   "metadata": {},
   "outputs": [],
   "source": [
    "y[18] = -8\n",
    "y[89] = -12"
   ]
  },
  {
   "cell_type": "code",
   "execution_count": 39,
   "metadata": {},
   "outputs": [
    {
     "name": "stdout",
     "output_type": "stream",
     "text": [
      "Grubbs critical value: 3.384082902288351\n",
      "Grubbs Statistics value: 6.262230882581157\n",
      "-12.0 is an outlier. G > G-critical: 6.2622 > 3.3841 \n",
      "\n",
      "Grubbs critical value: 3.380650508067058\n",
      "Grubbs Statistics value: 5.973651899141396\n",
      "10.0 is an outlier. G > G-critical: 5.9737 > 3.3807 \n",
      "\n",
      "Grubbs critical value: 3.377175980782947\n",
      "Grubbs Statistics value: 6.836694687661131\n",
      "-8.0 is an outlier. G > G-critical: 6.8367 > 3.3772 \n",
      "\n",
      "Grubbs critical value: 3.3736583400522497\n",
      "Grubbs Statistics value: 9.20608110313532\n",
      "9.0 is an outlier. G > G-critical: 9.2061 > 3.3737 \n",
      "\n",
      "Grubbs critical value: 3.370096570986626\n",
      "Grubbs Statistics value: 1.8129590573658294\n",
      "0.0019297565572488073 is not an outlier. G > G-critical: 1.8130 > 3.3701 \n",
      "\n",
      "Grubbs critical value: 3.3664896240676505\n",
      "Grubbs Statistics value: 1.8304052542175089\n",
      "0.009459357761924969 is not an outlier. G > G-critical: 1.8304 > 3.3665 \n",
      "\n",
      "Grubbs critical value: 3.362836413028039\n",
      "Grubbs Statistics value: 1.8359499486276756\n",
      "0.020975058974666894 is not an outlier. G > G-critical: 1.8359 > 3.3628 \n",
      "\n",
      "Grubbs critical value: 3.3591358131466618\n",
      "Grubbs Statistics value: 1.8496274677374323\n",
      "0.03014695295972014 is not an outlier. G > G-critical: 1.8496 > 3.3591 \n",
      "\n",
      "Grubbs critical value: 3.355386659445718\n",
      "Grubbs Statistics value: 1.8682431118147698\n",
      "0.038137414205425935 is not an outlier. G > G-critical: 1.8682 > 3.3554 \n",
      "\n",
      "Grubbs critical value: 3.3515877447813436\n",
      "Grubbs Statistics value: 1.8773809536414383\n",
      "0.049290389350069685 is not an outlier. G > G-critical: 1.8774 > 3.3516 \n",
      "\n"
     ]
    }
   ],
   "source": [
    "ESD_Test(y,0.05,10)"
   ]
  },
  {
   "cell_type": "markdown",
   "metadata": {},
   "source": [
    " "
   ]
  },
  {
   "cell_type": "markdown",
   "metadata": {},
   "source": [
    "https://statologos.jaol.net/grubbs-test-python/"
   ]
  },
  {
   "cell_type": "code",
   "execution_count": 18,
   "metadata": {},
   "outputs": [],
   "source": [
    "from outliers import smirnov_grubbs as grubbs\n",
    "import numpy as np\n",
    "import pandas as pd"
   ]
  },
  {
   "cell_type": "code",
   "execution_count": 19,
   "metadata": {},
   "outputs": [],
   "source": [
    "datos = np.array([-70, 5, 14, 15, 15, 14, 19, 17, 16,-60, 20, 22, 8, 21, 28, 11, 9, 29, 40])"
   ]
  },
  {
   "cell_type": "code",
   "execution_count": 20,
   "metadata": {},
   "outputs": [
    {
     "data": {
      "text/plain": [
       "array([-70,   5,  14,  15,  15,  14,  19,  17,  16, -60,  20,  22,   8,\n",
       "        21,  28,  11,   9,  29,  40])"
      ]
     },
     "execution_count": 20,
     "metadata": {},
     "output_type": "execute_result"
    }
   ],
   "source": [
    "datos"
   ]
  },
  {
   "cell_type": "code",
   "execution_count": 21,
   "metadata": {},
   "outputs": [
    {
     "data": {
      "text/plain": [
       "array([ 5, 14, 15, 15, 14, 19, 17, 16, 20, 22,  8, 21, 28, 11,  9, 29])"
      ]
     },
     "execution_count": 21,
     "metadata": {},
     "output_type": "execute_result"
    }
   ],
   "source": [
    "#Prueba de grubbs detectando valores atípicos por ambos lados, y mostrando solo los validos\n",
    "grubbs.test(datos,alpha = 0.05)"
   ]
  },
  {
   "cell_type": "code",
   "execution_count": 22,
   "metadata": {},
   "outputs": [],
   "source": [
    "#Prueba de grubss unilateral, detecta el valor mínimo y el máximod el conjunto de datos\n",
    "datos1 = np.array ([5, 14,-100, 15, 15, 14, 19, 17, 16, 20, 22, 8, 21, 28, 11, 9, 29, 40])"
   ]
  },
  {
   "cell_type": "code",
   "execution_count": 23,
   "metadata": {},
   "outputs": [
    {
     "data": {
      "text/plain": [
       "[2]"
      ]
     },
     "execution_count": 23,
     "metadata": {},
     "output_type": "execute_result"
    }
   ],
   "source": [
    "#Retorna el indice del valor outlier de menor valor, en caso de no existir outliers no arrroja nada, tampoco el menor valor del conjunto numerico\n",
    "grubbs.min_test_indices(datos1,alpha = 0.05)"
   ]
  },
  {
   "cell_type": "code",
   "execution_count": 24,
   "metadata": {},
   "outputs": [
    {
     "data": {
      "text/plain": [
       "[]"
      ]
     },
     "execution_count": 24,
     "metadata": {},
     "output_type": "execute_result"
    }
   ],
   "source": [
    "#Retorna el índice del outlier de valor máximo, si no hay outliers no retorna el indice del mayor valor del conjunto, en dicho caso no retorna nada\n",
    "grubbs.max_test_indices(datos1,alpha = 0.05)"
   ]
  },
  {
   "cell_type": "code",
   "execution_count": 25,
   "metadata": {},
   "outputs": [],
   "source": [
    "datos3 = np.array ([5, 14, 15, 15, 14,19, 17, 16, 20, 22, 8, 21, 28, 11, 9, 29, 40,90])"
   ]
  },
  {
   "cell_type": "code",
   "execution_count": 26,
   "metadata": {},
   "outputs": [
    {
     "data": {
      "text/plain": [
       "array([ 5, 14, 15, 15, 14, 19, 17, 16, 20, 22,  8, 21, 28, 11,  9, 29])"
      ]
     },
     "execution_count": 26,
     "metadata": {},
     "output_type": "execute_result"
    }
   ],
   "source": [
    "#Quita el outlier de valor máximo\n",
    "grubbs.max_test(datos3,alpha = 0.05)"
   ]
  },
  {
   "cell_type": "code",
   "execution_count": 27,
   "metadata": {},
   "outputs": [
    {
     "data": {
      "text/plain": [
       "array([ 5, 14, 15, 15, 14, 19, 17, 16, 20, 22,  8, 21, 28, 11,  9, 29, 40,\n",
       "       90])"
      ]
     },
     "execution_count": 27,
     "metadata": {},
     "output_type": "execute_result"
    }
   ],
   "source": [
    "#quita el outlier de valor mínimo\n",
    "grubbs.min_test(datos3,alpha = 0.05)"
   ]
  },
  {
   "cell_type": "code",
   "execution_count": 28,
   "metadata": {},
   "outputs": [
    {
     "data": {
      "text/plain": [
       "[90, 40]"
      ]
     },
     "execution_count": 28,
     "metadata": {},
     "output_type": "execute_result"
    }
   ],
   "source": [
    "#Como extraer el valor de LOS outliers encontrados maximos, si no hay no retorna nada\n",
    "grubbs.max_test_outliers(datos3,alpha = 0.05)"
   ]
  },
  {
   "cell_type": "code",
   "execution_count": 29,
   "metadata": {},
   "outputs": [],
   "source": [
    "datos4 = np.array ([5, 14, 15, 15, 14,19,-1000,-1090, 17, 16, 20, 22, 8, 21, 28, 11, 9, 29, 40,90])"
   ]
  },
  {
   "cell_type": "code",
   "execution_count": 30,
   "metadata": {},
   "outputs": [
    {
     "data": {
      "text/plain": [
       "[-1090, -1000]"
      ]
     },
     "execution_count": 30,
     "metadata": {},
     "output_type": "execute_result"
    }
   ],
   "source": [
    "#Como extraer los valores de los outliers mínimos\n",
    "grubbs.min_test_outliers(datos4,alpha = 0.05)"
   ]
  },
  {
   "cell_type": "code",
   "execution_count": null,
   "metadata": {},
   "outputs": [],
   "source": []
  }
 ],
 "metadata": {
  "kernelspec": {
   "display_name": "Python 3",
   "language": "python",
   "name": "python3"
  },
  "language_info": {
   "codemirror_mode": {
    "name": "ipython",
    "version": 3
   },
   "file_extension": ".py",
   "mimetype": "text/x-python",
   "name": "python",
   "nbconvert_exporter": "python",
   "pygments_lexer": "ipython3",
   "version": "3.8.3"
  }
 },
 "nbformat": 4,
 "nbformat_minor": 4
}
