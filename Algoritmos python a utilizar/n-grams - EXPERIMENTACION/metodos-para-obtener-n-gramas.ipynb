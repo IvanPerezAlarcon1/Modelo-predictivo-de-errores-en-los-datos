{
 "cells": [
  {
   "cell_type": "markdown",
   "metadata": {},
   "source": [
    "# palabras clave en contexto (usando n-grams) con python"
   ]
  },
  {
   "cell_type": "markdown",
   "metadata": {},
   "source": [
    "https://programminghistorian.org/es/lecciones/palabras-clave-en-contexto-n-grams"
   ]
  },
  {
   "cell_type": "code",
   "execution_count": 1,
   "metadata": {},
   "outputs": [],
   "source": [
    "cadenaPalabras = 'it was the best of times it was the worst of times '"
   ]
  },
  {
   "cell_type": "code",
   "execution_count": 2,
   "metadata": {},
   "outputs": [],
   "source": [
    "listaPalabras = cadenaPalabras.split() #split convierte la cadena en un arreglo de palabras para poder usarlo en la funcion n-grams"
   ]
  },
  {
   "cell_type": "code",
   "execution_count": 3,
   "metadata": {},
   "outputs": [
    {
     "name": "stdout",
     "output_type": "stream",
     "text": [
      "['it', 'was', 'the', 'best', 'of', 'times', 'it', 'was', 'the', 'worst', 'of', 'times']\n"
     ]
    }
   ],
   "source": [
    "print(listaPalabras)"
   ]
  },
  {
   "cell_type": "code",
   "execution_count": 4,
   "metadata": {},
   "outputs": [],
   "source": [
    "#parametros: lista_Palabras = lista de palabras que contiene un registro en nuestros datos.\n",
    "# n = nro de palabras que se quieren en cada n-grama\n",
    "def obtenNGramas(lista_Palabras, n):\n",
    "    return [lista_Palabras[i:i+n] for i in range(len(lista_Palabras)-(n-1))]"
   ]
  },
  {
   "cell_type": "code",
   "execution_count": 5,
   "metadata": {},
   "outputs": [
    {
     "name": "stdout",
     "output_type": "stream",
     "text": [
      "[['it', 'was'], ['was', 'the'], ['the', 'best'], ['best', 'of'], ['of', 'times'], ['times', 'it'], ['it', 'was'], ['was', 'the'], ['the', 'worst'], ['worst', 'of'], ['of', 'times']]\n"
     ]
    }
   ],
   "source": [
    "print(obtenNGramas(listaPalabras,2))"
   ]
  },
  {
   "cell_type": "code",
   "execution_count": 6,
   "metadata": {},
   "outputs": [
    {
     "name": "stdout",
     "output_type": "stream",
     "text": [
      "[['it', 'was', 'the', 'best', 'of'], ['was', 'the', 'best', 'of', 'times'], ['the', 'best', 'of', 'times', 'it'], ['best', 'of', 'times', 'it', 'was'], ['of', 'times', 'it', 'was', 'the'], ['times', 'it', 'was', 'the', 'worst'], ['it', 'was', 'the', 'worst', 'of'], ['was', 'the', 'worst', 'of', 'times']]\n"
     ]
    }
   ],
   "source": [
    "print(obtenNGramas(listaPalabras,5))"
   ]
  },
  {
   "cell_type": "code",
   "execution_count": 7,
   "metadata": {},
   "outputs": [
    {
     "name": "stdout",
     "output_type": "stream",
     "text": [
      "['el', 'le', 'ef', 'fa', 'an', 'nt', 'te', 'es']\n"
     ]
    }
   ],
   "source": [
    "print(obtenNGramas(\"elefantes\",2))"
   ]
  },
  {
   "cell_type": "code",
   "execution_count": 8,
   "metadata": {},
   "outputs": [
    {
     "name": "stdout",
     "output_type": "stream",
     "text": [
      "['elefa', 'lefan', 'efant', 'fante', 'antes']\n"
     ]
    }
   ],
   "source": [
    "print(obtenNGramas(\"elefantes\",5))"
   ]
  },
  {
   "cell_type": "code",
   "execution_count": 9,
   "metadata": {},
   "outputs": [
    {
     "name": "stdout",
     "output_type": "stream",
     "text": [
      "[]\n"
     ]
    }
   ],
   "source": [
    "print(obtenNGramas(\"elefantes\".split(),5))"
   ]
  },
  {
   "cell_type": "code",
   "execution_count": 10,
   "metadata": {},
   "outputs": [
    {
     "name": "stdout",
     "output_type": "stream",
     "text": [
      "[['elefantes', 'dos']]\n"
     ]
    }
   ],
   "source": [
    "print(obtenNGramas(\"elefantes dos\".split(),2))"
   ]
  },
  {
   "cell_type": "code",
   "execution_count": 11,
   "metadata": {},
   "outputs": [
    {
     "name": "stdout",
     "output_type": "stream",
     "text": [
      "[]\n"
     ]
    }
   ],
   "source": [
    "print(obtenNGramas(\"elefantes dos\".split(),3))"
   ]
  },
  {
   "cell_type": "markdown",
   "metadata": {},
   "source": [
    "# Librería Textblob método n-grams"
   ]
  },
  {
   "cell_type": "markdown",
   "metadata": {},
   "source": [
    "https://textblob.readthedocs.io/en/dev/quickstart.html#n-grams"
   ]
  },
  {
   "cell_type": "code",
   "execution_count": 7,
   "metadata": {},
   "outputs": [],
   "source": [
    "from textblob import TextBlob"
   ]
  },
  {
   "cell_type": "code",
   "execution_count": 96,
   "metadata": {},
   "outputs": [
    {
     "data": {
      "text/plain": [
       "[WordList(['Soy', 'una', 'cadena']),\n",
       " WordList(['una', 'cadena', 'de']),\n",
       " WordList(['cadena', 'de', 'ejemplo'])]"
      ]
     },
     "execution_count": 96,
     "metadata": {},
     "output_type": "execute_result"
    }
   ],
   "source": [
    "cadena_1 = \"Soy una cadena de ejemplo\"\n",
    "cadena_2 = 'it was the best of times it was the worst of times '\n",
    "cadena_3 = 'Hola que tal soy iván'\n",
    "cadena_4 = 'Palabra' #En textBlob si le pasamos una palabra,con n=3 no genera ningun n-gram\n",
    "cadena_5 = 'dos palabras'\n",
    "cadena_6 = 'Hola adiós'\n",
    "blob_1 = TextBlob(cadena_1)\n",
    "blob_1.ngrams(n = 3)"
   ]
  },
  {
   "cell_type": "code",
   "execution_count": 11,
   "metadata": {},
   "outputs": [
    {
     "data": {
      "text/plain": [
       "[WordList(['it', 'was', 'the']),\n",
       " WordList(['was', 'the', 'best']),\n",
       " WordList(['the', 'best', 'of']),\n",
       " WordList(['best', 'of', 'times']),\n",
       " WordList(['of', 'times', 'it']),\n",
       " WordList(['times', 'it', 'was']),\n",
       " WordList(['it', 'was', 'the']),\n",
       " WordList(['was', 'the', 'worst']),\n",
       " WordList(['the', 'worst', 'of']),\n",
       " WordList(['worst', 'of', 'times'])]"
      ]
     },
     "execution_count": 11,
     "metadata": {},
     "output_type": "execute_result"
    }
   ],
   "source": [
    "blob_2 = TextBlob(cadena_2)\n",
    "blob_2.ngrams(n = 3)"
   ]
  },
  {
   "cell_type": "code",
   "execution_count": 114,
   "metadata": {},
   "outputs": [
    {
     "name": "stdout",
     "output_type": "stream",
     "text": [
      "['Hola', 'que', 'tal']\n",
      "['que', 'tal', 'soy']\n",
      "['tal', 'soy', 'iván']\n"
     ]
    }
   ],
   "source": [
    "blob_3 = TextBlob(cadena_3).ngrams(3)\n",
    "for gram in blob_3:\n",
    "    print(gram)"
   ]
  },
  {
   "cell_type": "code",
   "execution_count": 89,
   "metadata": {},
   "outputs": [
    {
     "data": {
      "text/plain": [
       "[WordList(['Palabra'])]"
      ]
     },
     "execution_count": 89,
     "metadata": {},
     "output_type": "execute_result"
    }
   ],
   "source": [
    "blob_4 = TextBlob(cadena_4)\n",
    "blob_4.ngrams(n = 1)"
   ]
  },
  {
   "cell_type": "code",
   "execution_count": 115,
   "metadata": {},
   "outputs": [
    {
     "data": {
      "text/plain": [
       "[WordList(['Palabra'])]"
      ]
     },
     "execution_count": 115,
     "metadata": {},
     "output_type": "execute_result"
    }
   ],
   "source": [
    "blob_4 = TextBlob(cadena_4)\n",
    "blob_4.ngrams(n = 1)"
   ]
  },
  {
   "cell_type": "code",
   "execution_count": 94,
   "metadata": {},
   "outputs": [
    {
     "data": {
      "text/plain": [
       "[WordList(['dos', 'palabras'])]"
      ]
     },
     "execution_count": 94,
     "metadata": {},
     "output_type": "execute_result"
    }
   ],
   "source": [
    "blob_5 = TextBlob(cadena_5)\n",
    "blob_5.ngrams(n = 2)"
   ]
  },
  {
   "cell_type": "code",
   "execution_count": 97,
   "metadata": {},
   "outputs": [
    {
     "data": {
      "text/plain": [
       "[WordList(['Hola', 'adiós'])]"
      ]
     },
     "execution_count": 97,
     "metadata": {},
     "output_type": "execute_result"
    }
   ],
   "source": [
    "blob_6 = TextBlob(cadena_6)\n",
    "blob_6.ngrams(n = 2)"
   ]
  },
  {
   "cell_type": "code",
   "execution_count": 113,
   "metadata": {},
   "outputs": [
    {
     "name": "stdout",
     "output_type": "stream",
     "text": [
      "['Hola']\n",
      "['adiós']\n"
     ]
    }
   ],
   "source": [
    "blob_6 = TextBlob(cadena_6).ngrams(1)\n",
    "blob_6\n",
    "for gram in blob_6:\n",
    "    print(gram)"
   ]
  },
  {
   "cell_type": "markdown",
   "metadata": {},
   "source": [
    "# NLTK"
   ]
  },
  {
   "cell_type": "markdown",
   "metadata": {},
   "source": [
    "https://thinkingneuron.com/how-to-generate-n-grams-in-python/"
   ]
  },
  {
   "cell_type": "code",
   "execution_count": 83,
   "metadata": {},
   "outputs": [
    {
     "name": "stdout",
     "output_type": "stream",
     "text": [
      "('calle', 'siempre', 'viva')\n",
      "('siempre', 'viva', '#')\n",
      "('viva', '#', '123')\n"
     ]
    }
   ],
   "source": [
    "# NLTK function to generate ngrams\n",
    "import nltk\n",
    "from nltk.util import ngrams\n",
    " \n",
    "#samplText='this is a very good book to study'\n",
    "samplText='calle siempre viva #123'\n",
    "NGRAMS=ngrams(sequence=nltk.word_tokenize(samplText), n=3)\n",
    "for grams in NGRAMS:\n",
    "    print(grams)"
   ]
  },
  {
   "cell_type": "code",
   "execution_count": 101,
   "metadata": {},
   "outputs": [],
   "source": [
    "samplText2='Ejemplo trabajado que tal #89'\n",
    "NGRAMS2=ngrams(sequence=nltk.word_tokenize(samplText2), n=3)\n",
    "for grams in NGRAMS:\n",
    "    print(grams)"
   ]
  },
  {
   "cell_type": "code",
   "execution_count": 102,
   "metadata": {},
   "outputs": [],
   "source": [
    "from nltk.util import ngrams\n",
    "def ngram_convertor(sentence,n=3):\n",
    "\n",
    "    ngram_sentence = ngrams(sentence.split(), n)\n",
    "    for item in ngram_sentence:\n",
    "        print(item)"
   ]
  },
  {
   "cell_type": "code",
   "execution_count": 111,
   "metadata": {},
   "outputs": [],
   "source": [
    "ngram_convertor = (samplText,4)"
   ]
  },
  {
   "cell_type": "markdown",
   "metadata": {},
   "source": [
    "# Mostrar todos los n-gramas posibles de una cadena"
   ]
  },
  {
   "cell_type": "markdown",
   "metadata": {},
   "source": [
    "https://machinelearningknowledge.ai/generating-unigram-bigram-trigram-and-ngrams-in-nltk/"
   ]
  },
  {
   "cell_type": "code",
   "execution_count": 28,
   "metadata": {},
   "outputs": [
    {
     "data": {
      "text/plain": [
       "[('NLTK',),\n",
       " ('NLTK', 'tiene'),\n",
       " ('NLTK', 'tiene', 'una'),\n",
       " ('NLTK', 'tiene', 'una', 'función'),\n",
       " ('NLTK', 'tiene', 'una', 'función', 'para'),\n",
       " ('NLTK', 'tiene', 'una', 'función', 'para', 'generar'),\n",
       " ('NLTK', 'tiene', 'una', 'función', 'para', 'generar', 'todos'),\n",
       " ('NLTK', 'tiene', 'una', 'función', 'para', 'generar', 'todos', 'los'),\n",
       " ('NLTK',\n",
       "  'tiene',\n",
       "  'una',\n",
       "  'función',\n",
       "  'para',\n",
       "  'generar',\n",
       "  'todos',\n",
       "  'los',\n",
       "  'n-gramas'),\n",
       " ('NLTK',\n",
       "  'tiene',\n",
       "  'una',\n",
       "  'función',\n",
       "  'para',\n",
       "  'generar',\n",
       "  'todos',\n",
       "  'los',\n",
       "  'n-gramas',\n",
       "  'posibles'),\n",
       " ('NLTK',\n",
       "  'tiene',\n",
       "  'una',\n",
       "  'función',\n",
       "  'para',\n",
       "  'generar',\n",
       "  'todos',\n",
       "  'los',\n",
       "  'n-gramas',\n",
       "  'posibles',\n",
       "  'para'),\n",
       " ('NLTK',\n",
       "  'tiene',\n",
       "  'una',\n",
       "  'función',\n",
       "  'para',\n",
       "  'generar',\n",
       "  'todos',\n",
       "  'los',\n",
       "  'n-gramas',\n",
       "  'posibles',\n",
       "  'para',\n",
       "  'una'),\n",
       " ('NLTK',\n",
       "  'tiene',\n",
       "  'una',\n",
       "  'función',\n",
       "  'para',\n",
       "  'generar',\n",
       "  'todos',\n",
       "  'los',\n",
       "  'n-gramas',\n",
       "  'posibles',\n",
       "  'para',\n",
       "  'una',\n",
       "  'cadena'),\n",
       " ('NLTK',\n",
       "  'tiene',\n",
       "  'una',\n",
       "  'función',\n",
       "  'para',\n",
       "  'generar',\n",
       "  'todos',\n",
       "  'los',\n",
       "  'n-gramas',\n",
       "  'posibles',\n",
       "  'para',\n",
       "  'una',\n",
       "  'cadena',\n",
       "  'de'),\n",
       " ('NLTK',\n",
       "  'tiene',\n",
       "  'una',\n",
       "  'función',\n",
       "  'para',\n",
       "  'generar',\n",
       "  'todos',\n",
       "  'los',\n",
       "  'n-gramas',\n",
       "  'posibles',\n",
       "  'para',\n",
       "  'una',\n",
       "  'cadena',\n",
       "  'de',\n",
       "  'texto'),\n",
       " ('NLTK',\n",
       "  'tiene',\n",
       "  'una',\n",
       "  'función',\n",
       "  'para',\n",
       "  'generar',\n",
       "  'todos',\n",
       "  'los',\n",
       "  'n-gramas',\n",
       "  'posibles',\n",
       "  'para',\n",
       "  'una',\n",
       "  'cadena',\n",
       "  'de',\n",
       "  'texto',\n",
       "  'ingresada'),\n",
       " ('tiene',),\n",
       " ('tiene', 'una'),\n",
       " ('tiene', 'una', 'función'),\n",
       " ('tiene', 'una', 'función', 'para'),\n",
       " ('tiene', 'una', 'función', 'para', 'generar'),\n",
       " ('tiene', 'una', 'función', 'para', 'generar', 'todos'),\n",
       " ('tiene', 'una', 'función', 'para', 'generar', 'todos', 'los'),\n",
       " ('tiene', 'una', 'función', 'para', 'generar', 'todos', 'los', 'n-gramas'),\n",
       " ('tiene',\n",
       "  'una',\n",
       "  'función',\n",
       "  'para',\n",
       "  'generar',\n",
       "  'todos',\n",
       "  'los',\n",
       "  'n-gramas',\n",
       "  'posibles'),\n",
       " ('tiene',\n",
       "  'una',\n",
       "  'función',\n",
       "  'para',\n",
       "  'generar',\n",
       "  'todos',\n",
       "  'los',\n",
       "  'n-gramas',\n",
       "  'posibles',\n",
       "  'para'),\n",
       " ('tiene',\n",
       "  'una',\n",
       "  'función',\n",
       "  'para',\n",
       "  'generar',\n",
       "  'todos',\n",
       "  'los',\n",
       "  'n-gramas',\n",
       "  'posibles',\n",
       "  'para',\n",
       "  'una'),\n",
       " ('tiene',\n",
       "  'una',\n",
       "  'función',\n",
       "  'para',\n",
       "  'generar',\n",
       "  'todos',\n",
       "  'los',\n",
       "  'n-gramas',\n",
       "  'posibles',\n",
       "  'para',\n",
       "  'una',\n",
       "  'cadena'),\n",
       " ('tiene',\n",
       "  'una',\n",
       "  'función',\n",
       "  'para',\n",
       "  'generar',\n",
       "  'todos',\n",
       "  'los',\n",
       "  'n-gramas',\n",
       "  'posibles',\n",
       "  'para',\n",
       "  'una',\n",
       "  'cadena',\n",
       "  'de'),\n",
       " ('tiene',\n",
       "  'una',\n",
       "  'función',\n",
       "  'para',\n",
       "  'generar',\n",
       "  'todos',\n",
       "  'los',\n",
       "  'n-gramas',\n",
       "  'posibles',\n",
       "  'para',\n",
       "  'una',\n",
       "  'cadena',\n",
       "  'de',\n",
       "  'texto'),\n",
       " ('tiene',\n",
       "  'una',\n",
       "  'función',\n",
       "  'para',\n",
       "  'generar',\n",
       "  'todos',\n",
       "  'los',\n",
       "  'n-gramas',\n",
       "  'posibles',\n",
       "  'para',\n",
       "  'una',\n",
       "  'cadena',\n",
       "  'de',\n",
       "  'texto',\n",
       "  'ingresada'),\n",
       " ('una',),\n",
       " ('una', 'función'),\n",
       " ('una', 'función', 'para'),\n",
       " ('una', 'función', 'para', 'generar'),\n",
       " ('una', 'función', 'para', 'generar', 'todos'),\n",
       " ('una', 'función', 'para', 'generar', 'todos', 'los'),\n",
       " ('una', 'función', 'para', 'generar', 'todos', 'los', 'n-gramas'),\n",
       " ('una', 'función', 'para', 'generar', 'todos', 'los', 'n-gramas', 'posibles'),\n",
       " ('una',\n",
       "  'función',\n",
       "  'para',\n",
       "  'generar',\n",
       "  'todos',\n",
       "  'los',\n",
       "  'n-gramas',\n",
       "  'posibles',\n",
       "  'para'),\n",
       " ('una',\n",
       "  'función',\n",
       "  'para',\n",
       "  'generar',\n",
       "  'todos',\n",
       "  'los',\n",
       "  'n-gramas',\n",
       "  'posibles',\n",
       "  'para',\n",
       "  'una'),\n",
       " ('una',\n",
       "  'función',\n",
       "  'para',\n",
       "  'generar',\n",
       "  'todos',\n",
       "  'los',\n",
       "  'n-gramas',\n",
       "  'posibles',\n",
       "  'para',\n",
       "  'una',\n",
       "  'cadena'),\n",
       " ('una',\n",
       "  'función',\n",
       "  'para',\n",
       "  'generar',\n",
       "  'todos',\n",
       "  'los',\n",
       "  'n-gramas',\n",
       "  'posibles',\n",
       "  'para',\n",
       "  'una',\n",
       "  'cadena',\n",
       "  'de'),\n",
       " ('una',\n",
       "  'función',\n",
       "  'para',\n",
       "  'generar',\n",
       "  'todos',\n",
       "  'los',\n",
       "  'n-gramas',\n",
       "  'posibles',\n",
       "  'para',\n",
       "  'una',\n",
       "  'cadena',\n",
       "  'de',\n",
       "  'texto'),\n",
       " ('una',\n",
       "  'función',\n",
       "  'para',\n",
       "  'generar',\n",
       "  'todos',\n",
       "  'los',\n",
       "  'n-gramas',\n",
       "  'posibles',\n",
       "  'para',\n",
       "  'una',\n",
       "  'cadena',\n",
       "  'de',\n",
       "  'texto',\n",
       "  'ingresada'),\n",
       " ('función',),\n",
       " ('función', 'para'),\n",
       " ('función', 'para', 'generar'),\n",
       " ('función', 'para', 'generar', 'todos'),\n",
       " ('función', 'para', 'generar', 'todos', 'los'),\n",
       " ('función', 'para', 'generar', 'todos', 'los', 'n-gramas'),\n",
       " ('función', 'para', 'generar', 'todos', 'los', 'n-gramas', 'posibles'),\n",
       " ('función',\n",
       "  'para',\n",
       "  'generar',\n",
       "  'todos',\n",
       "  'los',\n",
       "  'n-gramas',\n",
       "  'posibles',\n",
       "  'para'),\n",
       " ('función',\n",
       "  'para',\n",
       "  'generar',\n",
       "  'todos',\n",
       "  'los',\n",
       "  'n-gramas',\n",
       "  'posibles',\n",
       "  'para',\n",
       "  'una'),\n",
       " ('función',\n",
       "  'para',\n",
       "  'generar',\n",
       "  'todos',\n",
       "  'los',\n",
       "  'n-gramas',\n",
       "  'posibles',\n",
       "  'para',\n",
       "  'una',\n",
       "  'cadena'),\n",
       " ('función',\n",
       "  'para',\n",
       "  'generar',\n",
       "  'todos',\n",
       "  'los',\n",
       "  'n-gramas',\n",
       "  'posibles',\n",
       "  'para',\n",
       "  'una',\n",
       "  'cadena',\n",
       "  'de'),\n",
       " ('función',\n",
       "  'para',\n",
       "  'generar',\n",
       "  'todos',\n",
       "  'los',\n",
       "  'n-gramas',\n",
       "  'posibles',\n",
       "  'para',\n",
       "  'una',\n",
       "  'cadena',\n",
       "  'de',\n",
       "  'texto'),\n",
       " ('función',\n",
       "  'para',\n",
       "  'generar',\n",
       "  'todos',\n",
       "  'los',\n",
       "  'n-gramas',\n",
       "  'posibles',\n",
       "  'para',\n",
       "  'una',\n",
       "  'cadena',\n",
       "  'de',\n",
       "  'texto',\n",
       "  'ingresada'),\n",
       " ('para',),\n",
       " ('para', 'generar'),\n",
       " ('para', 'generar', 'todos'),\n",
       " ('para', 'generar', 'todos', 'los'),\n",
       " ('para', 'generar', 'todos', 'los', 'n-gramas'),\n",
       " ('para', 'generar', 'todos', 'los', 'n-gramas', 'posibles'),\n",
       " ('para', 'generar', 'todos', 'los', 'n-gramas', 'posibles', 'para'),\n",
       " ('para', 'generar', 'todos', 'los', 'n-gramas', 'posibles', 'para', 'una'),\n",
       " ('para',\n",
       "  'generar',\n",
       "  'todos',\n",
       "  'los',\n",
       "  'n-gramas',\n",
       "  'posibles',\n",
       "  'para',\n",
       "  'una',\n",
       "  'cadena'),\n",
       " ('para',\n",
       "  'generar',\n",
       "  'todos',\n",
       "  'los',\n",
       "  'n-gramas',\n",
       "  'posibles',\n",
       "  'para',\n",
       "  'una',\n",
       "  'cadena',\n",
       "  'de'),\n",
       " ('para',\n",
       "  'generar',\n",
       "  'todos',\n",
       "  'los',\n",
       "  'n-gramas',\n",
       "  'posibles',\n",
       "  'para',\n",
       "  'una',\n",
       "  'cadena',\n",
       "  'de',\n",
       "  'texto'),\n",
       " ('para',\n",
       "  'generar',\n",
       "  'todos',\n",
       "  'los',\n",
       "  'n-gramas',\n",
       "  'posibles',\n",
       "  'para',\n",
       "  'una',\n",
       "  'cadena',\n",
       "  'de',\n",
       "  'texto',\n",
       "  'ingresada'),\n",
       " ('generar',),\n",
       " ('generar', 'todos'),\n",
       " ('generar', 'todos', 'los'),\n",
       " ('generar', 'todos', 'los', 'n-gramas'),\n",
       " ('generar', 'todos', 'los', 'n-gramas', 'posibles'),\n",
       " ('generar', 'todos', 'los', 'n-gramas', 'posibles', 'para'),\n",
       " ('generar', 'todos', 'los', 'n-gramas', 'posibles', 'para', 'una'),\n",
       " ('generar', 'todos', 'los', 'n-gramas', 'posibles', 'para', 'una', 'cadena'),\n",
       " ('generar',\n",
       "  'todos',\n",
       "  'los',\n",
       "  'n-gramas',\n",
       "  'posibles',\n",
       "  'para',\n",
       "  'una',\n",
       "  'cadena',\n",
       "  'de'),\n",
       " ('generar',\n",
       "  'todos',\n",
       "  'los',\n",
       "  'n-gramas',\n",
       "  'posibles',\n",
       "  'para',\n",
       "  'una',\n",
       "  'cadena',\n",
       "  'de',\n",
       "  'texto'),\n",
       " ('generar',\n",
       "  'todos',\n",
       "  'los',\n",
       "  'n-gramas',\n",
       "  'posibles',\n",
       "  'para',\n",
       "  'una',\n",
       "  'cadena',\n",
       "  'de',\n",
       "  'texto',\n",
       "  'ingresada'),\n",
       " ('todos',),\n",
       " ('todos', 'los'),\n",
       " ('todos', 'los', 'n-gramas'),\n",
       " ('todos', 'los', 'n-gramas', 'posibles'),\n",
       " ('todos', 'los', 'n-gramas', 'posibles', 'para'),\n",
       " ('todos', 'los', 'n-gramas', 'posibles', 'para', 'una'),\n",
       " ('todos', 'los', 'n-gramas', 'posibles', 'para', 'una', 'cadena'),\n",
       " ('todos', 'los', 'n-gramas', 'posibles', 'para', 'una', 'cadena', 'de'),\n",
       " ('todos',\n",
       "  'los',\n",
       "  'n-gramas',\n",
       "  'posibles',\n",
       "  'para',\n",
       "  'una',\n",
       "  'cadena',\n",
       "  'de',\n",
       "  'texto'),\n",
       " ('todos',\n",
       "  'los',\n",
       "  'n-gramas',\n",
       "  'posibles',\n",
       "  'para',\n",
       "  'una',\n",
       "  'cadena',\n",
       "  'de',\n",
       "  'texto',\n",
       "  'ingresada'),\n",
       " ('los',),\n",
       " ('los', 'n-gramas'),\n",
       " ('los', 'n-gramas', 'posibles'),\n",
       " ('los', 'n-gramas', 'posibles', 'para'),\n",
       " ('los', 'n-gramas', 'posibles', 'para', 'una'),\n",
       " ('los', 'n-gramas', 'posibles', 'para', 'una', 'cadena'),\n",
       " ('los', 'n-gramas', 'posibles', 'para', 'una', 'cadena', 'de'),\n",
       " ('los', 'n-gramas', 'posibles', 'para', 'una', 'cadena', 'de', 'texto'),\n",
       " ('los',\n",
       "  'n-gramas',\n",
       "  'posibles',\n",
       "  'para',\n",
       "  'una',\n",
       "  'cadena',\n",
       "  'de',\n",
       "  'texto',\n",
       "  'ingresada'),\n",
       " ('n-gramas',),\n",
       " ('n-gramas', 'posibles'),\n",
       " ('n-gramas', 'posibles', 'para'),\n",
       " ('n-gramas', 'posibles', 'para', 'una'),\n",
       " ('n-gramas', 'posibles', 'para', 'una', 'cadena'),\n",
       " ('n-gramas', 'posibles', 'para', 'una', 'cadena', 'de'),\n",
       " ('n-gramas', 'posibles', 'para', 'una', 'cadena', 'de', 'texto'),\n",
       " ('n-gramas', 'posibles', 'para', 'una', 'cadena', 'de', 'texto', 'ingresada'),\n",
       " ('posibles',),\n",
       " ('posibles', 'para'),\n",
       " ('posibles', 'para', 'una'),\n",
       " ('posibles', 'para', 'una', 'cadena'),\n",
       " ('posibles', 'para', 'una', 'cadena', 'de'),\n",
       " ('posibles', 'para', 'una', 'cadena', 'de', 'texto'),\n",
       " ('posibles', 'para', 'una', 'cadena', 'de', 'texto', 'ingresada'),\n",
       " ('para',),\n",
       " ('para', 'una'),\n",
       " ('para', 'una', 'cadena'),\n",
       " ('para', 'una', 'cadena', 'de'),\n",
       " ('para', 'una', 'cadena', 'de', 'texto'),\n",
       " ('para', 'una', 'cadena', 'de', 'texto', 'ingresada'),\n",
       " ('una',),\n",
       " ('una', 'cadena'),\n",
       " ('una', 'cadena', 'de'),\n",
       " ('una', 'cadena', 'de', 'texto'),\n",
       " ('una', 'cadena', 'de', 'texto', 'ingresada'),\n",
       " ('cadena',),\n",
       " ('cadena', 'de'),\n",
       " ('cadena', 'de', 'texto'),\n",
       " ('cadena', 'de', 'texto', 'ingresada'),\n",
       " ('de',),\n",
       " ('de', 'texto'),\n",
       " ('de', 'texto', 'ingresada'),\n",
       " ('texto',),\n",
       " ('texto', 'ingresada'),\n",
       " ('ingresada',)]"
      ]
     },
     "execution_count": 28,
     "metadata": {},
     "output_type": "execute_result"
    }
   ],
   "source": [
    "from nltk.util import everygrams\n",
    "cad_1 = \"NLTK tiene una función para generar todos los n-gramas posibles para una cadena de texto ingresada\"\n",
    "cad_1_split = cad_1.split()\n",
    "list(everygrams(cad_1_split))"
   ]
  },
  {
   "cell_type": "code",
   "execution_count": 29,
   "metadata": {},
   "outputs": [],
   "source": [
    "aa = \"Iván Pérez A\"\n",
    "bb = \"Iván Alejandro Pérez Alarcón\""
   ]
  },
  {
   "cell_type": "code",
   "execution_count": 30,
   "metadata": {},
   "outputs": [],
   "source": [
    "aa_1 = aa.split()\n",
    "bb_1 = bb.split()"
   ]
  },
  {
   "cell_type": "code",
   "execution_count": 31,
   "metadata": {},
   "outputs": [
    {
     "data": {
      "text/plain": [
       "[('Iván',),\n",
       " ('Iván', 'Pérez'),\n",
       " ('Iván', 'Pérez', 'A'),\n",
       " ('Pérez',),\n",
       " ('Pérez', 'A'),\n",
       " ('A',)]"
      ]
     },
     "execution_count": 31,
     "metadata": {},
     "output_type": "execute_result"
    }
   ],
   "source": [
    "list(everygrams(aa_1))"
   ]
  },
  {
   "cell_type": "code",
   "execution_count": 32,
   "metadata": {},
   "outputs": [
    {
     "data": {
      "text/plain": [
       "[('Iván',),\n",
       " ('Iván', 'Alejandro'),\n",
       " ('Iván', 'Alejandro', 'Pérez'),\n",
       " ('Iván', 'Alejandro', 'Pérez', 'Alarcón'),\n",
       " ('Alejandro',),\n",
       " ('Alejandro', 'Pérez'),\n",
       " ('Alejandro', 'Pérez', 'Alarcón'),\n",
       " ('Pérez',),\n",
       " ('Pérez', 'Alarcón'),\n",
       " ('Alarcón',)]"
      ]
     },
     "execution_count": 32,
     "metadata": {},
     "output_type": "execute_result"
    }
   ],
   "source": [
    "list(everygrams(bb_1))"
   ]
  },
  {
   "cell_type": "code",
   "execution_count": 33,
   "metadata": {},
   "outputs": [
    {
     "data": {
      "text/plain": [
       "[('elefante',), ('elefante', 'volador'), ('volador',)]"
      ]
     },
     "execution_count": 33,
     "metadata": {},
     "output_type": "execute_result"
    }
   ],
   "source": [
    "cad_2 = \"elefante volador\"\n",
    "cad_2_split = cad_2.split()\n",
    "list(everygrams(cad_2_split))"
   ]
  },
  {
   "cell_type": "code",
   "execution_count": 34,
   "metadata": {},
   "outputs": [
    {
     "data": {
      "text/plain": [
       "[('volador',), ('volador', 'elefante'), ('elefante',)]"
      ]
     },
     "execution_count": 34,
     "metadata": {},
     "output_type": "execute_result"
    }
   ],
   "source": [
    "cad_3 = \"volador elefante\"\n",
    "cad_3_split = cad_3.split()\n",
    "list(everygrams(cad_3_split))"
   ]
  },
  {
   "cell_type": "code",
   "execution_count": 55,
   "metadata": {},
   "outputs": [
    {
     "data": {
      "text/plain": [
       "[('volador',)]"
      ]
     },
     "execution_count": 55,
     "metadata": {},
     "output_type": "execute_result"
    }
   ],
   "source": [
    "cad_4 = \"volador\"\n",
    "cad_4_split = cad_4.split()\n",
    "list(everygrams(cad_4_split))"
   ]
  },
  {
   "cell_type": "markdown",
   "metadata": {},
   "source": [
    "# Comparación de n-grams"
   ]
  },
  {
   "cell_type": "markdown",
   "metadata": {},
   "source": [
    "Librería ngram https://pypi.org/project/ngram/\n",
    "\n",
    "\n",
    "https://pythonhosted.org/ngram/ngram.html#ngram-a-set-class-that-supports-lookup-by-n-gram-string-similarity"
   ]
  },
  {
   "cell_type": "code",
   "execution_count": 56,
   "metadata": {},
   "outputs": [],
   "source": [
    " from ngram import NGram"
   ]
  },
  {
   "cell_type": "code",
   "execution_count": 2,
   "metadata": {},
   "outputs": [
    {
     "data": {
      "text/plain": [
       "['ham']"
      ]
     },
     "execution_count": 2,
     "metadata": {},
     "output_type": "execute_result"
    }
   ],
   "source": [
    "n = NGram()\n",
    "n.add(\"ham\")\n",
    "list(n)"
   ]
  },
  {
   "cell_type": "code",
   "execution_count": 60,
   "metadata": {},
   "outputs": [
    {
     "data": {
      "text/plain": [
       "['$$e', '$el', 'ele', 'lef', 'efa', 'fan', 'ant', 'nte', 'te$', 'e$$']"
      ]
     },
     "execution_count": 60,
     "metadata": {},
     "output_type": "execute_result"
    }
   ],
   "source": [
    "from ngram import NGram\n",
    "n = NGram()\n",
    "list(n.split(\"elefante\"))"
   ]
  },
  {
   "cell_type": "code",
   "execution_count": 3,
   "metadata": {},
   "outputs": [
    {
     "data": {
      "text/plain": [
       "['ham', 'spam']"
      ]
     },
     "execution_count": 3,
     "metadata": {},
     "output_type": "execute_result"
    }
   ],
   "source": [
    "n.add(\"spam\")\n",
    "sorted(list(n))"
   ]
  },
  {
   "cell_type": "code",
   "execution_count": 4,
   "metadata": {},
   "outputs": [
    {
     "data": {
      "text/plain": [
       "0.375"
      ]
     },
     "execution_count": 4,
     "metadata": {},
     "output_type": "execute_result"
    }
   ],
   "source": [
    "NGram.compare('ola','hola')"
   ]
  },
  {
   "cell_type": "code",
   "execution_count": 62,
   "metadata": {},
   "outputs": [
    {
     "data": {
      "text/plain": [
       "1.0"
      ]
     },
     "execution_count": 62,
     "metadata": {},
     "output_type": "execute_result"
    }
   ],
   "source": [
    "NGram.compare('hola','hola')"
   ]
  },
  {
   "cell_type": "code",
   "execution_count": 63,
   "metadata": {},
   "outputs": [
    {
     "data": {
      "text/plain": [
       "0.0"
      ]
     },
     "execution_count": 63,
     "metadata": {},
     "output_type": "execute_result"
    }
   ],
   "source": [
    "NGram.compare('HOLA','hola')"
   ]
  },
  {
   "cell_type": "code",
   "execution_count": 7,
   "metadata": {},
   "outputs": [
    {
     "data": {
      "text/plain": [
       "1.0"
      ]
     },
     "execution_count": 7,
     "metadata": {},
     "output_type": "execute_result"
    }
   ],
   "source": [
    "NGram.compare('HOLA','hola'.upper())"
   ]
  },
  {
   "cell_type": "code",
   "execution_count": 9,
   "metadata": {},
   "outputs": [
    {
     "data": {
      "text/plain": [
       "0.4444444444444444"
      ]
     },
     "execution_count": 9,
     "metadata": {},
     "output_type": "execute_result"
    }
   ],
   "source": [
    "NGram.compare('hola','h ola')"
   ]
  },
  {
   "cell_type": "code",
   "execution_count": 27,
   "metadata": {},
   "outputs": [
    {
     "data": {
      "text/plain": [
       "0.3333333333333333"
      ]
     },
     "execution_count": 27,
     "metadata": {},
     "output_type": "execute_result"
    }
   ],
   "source": [
    "a = \"Iván Pérez A\"\n",
    "b = \"Iván Alejandro Pérez Alarcón\"\n",
    "NGram.compare(a,b)"
   ]
  },
  {
   "cell_type": "code",
   "execution_count": 28,
   "metadata": {},
   "outputs": [
    {
     "data": {
      "text/plain": [
       "0.3333333333333333"
      ]
     },
     "execution_count": 28,
     "metadata": {},
     "output_type": "execute_result"
    }
   ],
   "source": [
    "NGram.compare(a.upper(),b.upper())"
   ]
  },
  {
   "cell_type": "markdown",
   "metadata": {},
   "source": [
    "Test de similaridad - n-grams git hub\n",
    "\n",
    "https://gist.github.com/gaulinmp/da5825de975ed0ea6a24186434c24fe4"
   ]
  },
  {
   "cell_type": "code",
   "execution_count": 10,
   "metadata": {},
   "outputs": [],
   "source": [
    "from collections import Counter\n",
    "import math\n",
    "\n",
    "#funcion para determinar coeficiente de Jaccard\n",
    "def jaccard_distance(a, b):\n",
    "    \"\"\"Calculate the jaccard distance between sets A and B\"\"\"\n",
    "    a = set(a)\n",
    "    b = set(b)\n",
    "    return 1.0 * len(a&b)/len(a|b)\n",
    "\n",
    "\n",
    "#Funcion para determinar la similitud del coseno\n",
    "def cosine_similarity_ngrams(a, b):\n",
    "    vec1 = Counter(a)\n",
    "    vec2 = Counter(b)\n",
    "    \n",
    "    intersection = set(vec1.keys()) & set(vec2.keys())\n",
    "    numerator = sum([vec1[x] * vec2[x] for x in intersection])\n",
    "\n",
    "    sum1 = sum([vec1[x]**2 for x in vec1.keys()])\n",
    "    sum2 = sum([vec2[x]**2 for x in vec2.keys()])\n",
    "    denominator = math.sqrt(sum1) * math.sqrt(sum2)\n",
    "\n",
    "    if not denominator:\n",
    "        return 0.0\n",
    "    return float(numerator) / denominator"
   ]
  },
  {
   "cell_type": "markdown",
   "metadata": {},
   "source": [
    "# Pruebas en cadenas de texto"
   ]
  },
  {
   "cell_type": "code",
   "execution_count": 11,
   "metadata": {},
   "outputs": [
    {
     "name": "stdout",
     "output_type": "stream",
     "text": [
      "Jaccard: 0.75   Cosine: 0.8660254037844387\n"
     ]
    }
   ],
   "source": [
    "a = \"hola\"\n",
    "b = \"ola\"\n",
    "print(\"Jaccard: {}   Cosine: {}\".format(jaccard_distance(a,b), cosine_similarity_ngrams(a,b)))"
   ]
  },
  {
   "cell_type": "code",
   "execution_count": 12,
   "metadata": {},
   "outputs": [
    {
     "name": "stdout",
     "output_type": "stream",
     "text": [
      "Jaccard: 1.0   Cosine: 1.0\n"
     ]
    }
   ],
   "source": [
    "a = \"hola\"\n",
    "b = \"hola\"\n",
    "print(\"Jaccard: {}   Cosine: {}\".format(jaccard_distance(a,b), cosine_similarity_ngrams(a,b)))"
   ]
  },
  {
   "cell_type": "code",
   "execution_count": 13,
   "metadata": {},
   "outputs": [
    {
     "name": "stdout",
     "output_type": "stream",
     "text": [
      "Jaccard: 0.0   Cosine: 0.0\n"
     ]
    }
   ],
   "source": [
    "a = \"hola\"\n",
    "b = \"HOLA\"\n",
    "print(\"Jaccard: {}   Cosine: {}\".format(jaccard_distance(a,b), cosine_similarity_ngrams(a,b)))"
   ]
  },
  {
   "cell_type": "code",
   "execution_count": 14,
   "metadata": {},
   "outputs": [
    {
     "name": "stdout",
     "output_type": "stream",
     "text": [
      "Jaccard: 1.0   Cosine: 1.0\n"
     ]
    }
   ],
   "source": [
    "a = \"hola\"\n",
    "b = \"HOLA\"\n",
    "print(\"Jaccard: {}   Cosine: {}\".format(jaccard_distance(a.upper(),b), cosine_similarity_ngrams(a.upper(),b)))"
   ]
  },
  {
   "cell_type": "code",
   "execution_count": 77,
   "metadata": {},
   "outputs": [
    {
     "name": "stdout",
     "output_type": "stream",
     "text": [
      "Jaccard: 0.8   Cosine: 0.8944271909999159\n"
     ]
    }
   ],
   "source": [
    "a = \"hola\"\n",
    "b = \"h ola\"\n",
    "print(\"Jaccard: {}   Cosine: {}\".format(jaccard_distance(a,b), cosine_similarity_ngrams(a,b)))"
   ]
  },
  {
   "cell_type": "code",
   "execution_count": 15,
   "metadata": {},
   "outputs": [
    {
     "name": "stdout",
     "output_type": "stream",
     "text": [
      "Jaccard: 0.6111111111111112   Cosine: 0.8001322641986387\n"
     ]
    }
   ],
   "source": [
    "a = \"Iván Pérez A\"\n",
    "b = \"Iván Alejandro Pérez Alarcón\"\n",
    "print(\"Jaccard: {}   Cosine: {}\".format(jaccard_distance(a,b), cosine_similarity_ngrams(a,b)))"
   ]
  },
  {
   "cell_type": "code",
   "execution_count": 26,
   "metadata": {},
   "outputs": [
    {
     "name": "stdout",
     "output_type": "stream",
     "text": [
      "Jaccard: 0.5714285714285714   Cosine: 0.7270336723128621\n"
     ]
    }
   ],
   "source": [
    "a = \"Dr. Iván Pérez A.\"\n",
    "b = \"Doctor Iván Alejandro Pérez Alarcón\"\n",
    "print(\"Jaccard: {}   Cosine: {}\".format(jaccard_distance(a,b), cosine_similarity_ngrams(a,b)))"
   ]
  },
  {
   "cell_type": "code",
   "execution_count": 18,
   "metadata": {},
   "outputs": [
    {
     "name": "stdout",
     "output_type": "stream",
     "text": [
      "Jaccard: 0.631578947368421   Cosine: 0.791726911145189\n"
     ]
    }
   ],
   "source": [
    "a = \"Dr. Iván Pérez A\"\n",
    "b = \"Doctor Iván Alejandro Pérez Alarcón\"\n",
    "print(\"Jaccard: {}   Cosine: {}\".format(jaccard_distance(a.upper(),b.upper()), cosine_similarity_ngrams(a.upper(),b.upper())))"
   ]
  },
  {
   "cell_type": "markdown",
   "metadata": {},
   "source": [
    "# Pruebas en alfanuméricos"
   ]
  },
  {
   "cell_type": "code",
   "execution_count": 20,
   "metadata": {},
   "outputs": [
    {
     "name": "stdout",
     "output_type": "stream",
     "text": [
      "Jaccard: 1.0   Cosine: 0.9999999999999998\n"
     ]
    }
   ],
   "source": [
    "a = \"ACB123lo\"\n",
    "b = \"abc123LO\"\n",
    "print(\"Jaccard: {}   Cosine: {}\".format(jaccard_distance(a.upper(),b.upper()), cosine_similarity_ngrams(a.upper(),b.upper())))"
   ]
  },
  {
   "cell_type": "code",
   "execution_count": 21,
   "metadata": {},
   "outputs": [
    {
     "name": "stdout",
     "output_type": "stream",
     "text": [
      "Jaccard: 0.23076923076923078   Cosine: 0.37499999999999994\n"
     ]
    }
   ],
   "source": [
    "a = \"ACB123lo\"\n",
    "b = \"abc123LO\"\n",
    "print(\"Jaccard: {}   Cosine: {}\".format(jaccard_distance(a,b), cosine_similarity_ngrams(a,b)))"
   ]
  },
  {
   "cell_type": "code",
   "execution_count": 86,
   "metadata": {},
   "outputs": [],
   "source": [
    "import re\n",
    "import nltk\n",
    "from nltk.util import ngrams\n",
    "\n",
    "NGRAM = 3\n",
    "\n",
    "re_sent_ends_naive = re.compile(r'[.\\n]')\n",
    "re_stripper_alpha = re.compile('[^a-zA-Z]+')\n",
    "re_stripper_naive = re.compile('[^a-zA-Z\\.\\n]')\n",
    "\n",
    "splitter_naive = lambda x: re_sent_ends_naive.split(re_stripper_naive.sub(' ', x))\n",
    "\n",
    "\n",
    "def get_tuples_nosentences(txt):\n",
    "    \"\"\"Get tuples that ignores all punctuation (including sentences).\"\"\"\n",
    "    if not txt: return None\n",
    "    ng = ngrams(re_stripper_alpha.sub(' ', txt).split(), NGRAM)\n",
    "    return list(ng)\n",
    "\n",
    "def get_tuples_manual_sentences(txt):\n",
    "    \"\"\"Naive get tuples that uses periods or newlines to denote sentences.\"\"\"\n",
    "    if not txt: return None\n",
    "    sentences = (x.split() for x in splitter_naive(txt) if x)\n",
    "    ng = (ngrams(x, NGRAM) for x in sentences if len(x) >= NGRAM)\n",
    "    return list(chain(*ng))"
   ]
  },
  {
   "cell_type": "code",
   "execution_count": null,
   "metadata": {},
   "outputs": [],
   "source": [
    "import re\n",
    "import nltk\n",
    "from nltk.util import ngrams\n",
    "\n"
   ]
  },
  {
   "cell_type": "code",
   "execution_count": 67,
   "metadata": {},
   "outputs": [],
   "source": [
    "prueba1 = get_tuples_nosentences(\"hola este es un texto de prueba para probar n-grams\")\n",
    "prueba2 = get_tuples_nosentences(\"hola este es un texto de prueba para probar n-grams, adiós.\")\n",
    "prueba3 = get_tuples_nosentences(\"hola\")\n",
    "prueba4 = get_tuples_nosentences(\"hola adiós\")"
   ]
  },
  {
   "cell_type": "code",
   "execution_count": 27,
   "metadata": {},
   "outputs": [
    {
     "name": "stdout",
     "output_type": "stream",
     "text": [
      "Number of N-grams:  9\n"
     ]
    },
    {
     "data": {
      "text/plain": [
       "[('hola', 'este', 'es'),\n",
       " ('este', 'es', 'un'),\n",
       " ('es', 'un', 'texto'),\n",
       " ('un', 'texto', 'de'),\n",
       " ('texto', 'de', 'prueba'),\n",
       " ('de', 'prueba', 'para'),\n",
       " ('prueba', 'para', 'probar'),\n",
       " ('para', 'probar', 'n'),\n",
       " ('probar', 'n', 'grams')]"
      ]
     },
     "execution_count": 27,
     "metadata": {},
     "output_type": "execute_result"
    }
   ],
   "source": [
    "print(\"Number of N-grams: \",len(prueba1))\n",
    "prueba1"
   ]
  },
  {
   "cell_type": "code",
   "execution_count": 28,
   "metadata": {},
   "outputs": [
    {
     "name": "stdout",
     "output_type": "stream",
     "text": [
      "Number of N-grams:  11\n"
     ]
    },
    {
     "data": {
      "text/plain": [
       "[('hola', 'este', 'es'),\n",
       " ('este', 'es', 'un'),\n",
       " ('es', 'un', 'texto'),\n",
       " ('un', 'texto', 'de'),\n",
       " ('texto', 'de', 'prueba'),\n",
       " ('de', 'prueba', 'para'),\n",
       " ('prueba', 'para', 'probar'),\n",
       " ('para', 'probar', 'n'),\n",
       " ('probar', 'n', 'grams'),\n",
       " ('n', 'grams', 'adi'),\n",
       " ('grams', 'adi', 's')]"
      ]
     },
     "execution_count": 28,
     "metadata": {},
     "output_type": "execute_result"
    }
   ],
   "source": [
    "print(\"Number of N-grams: \", len(prueba2))\n",
    "prueba2"
   ]
  },
  {
   "cell_type": "code",
   "execution_count": 68,
   "metadata": {},
   "outputs": [
    {
     "name": "stdout",
     "output_type": "stream",
     "text": [
      "Number of N-grams:  1\n"
     ]
    },
    {
     "data": {
      "text/plain": [
       "[('hola', 'adi', 's')]"
      ]
     },
     "execution_count": 68,
     "metadata": {},
     "output_type": "execute_result"
    }
   ],
   "source": [
    "print(\"Number of N-grams: \", len(prueba4))\n",
    "prueba4"
   ]
  },
  {
   "cell_type": "code",
   "execution_count": 29,
   "metadata": {},
   "outputs": [
    {
     "name": "stdout",
     "output_type": "stream",
     "text": [
      "Number of N-grams:  0\n"
     ]
    },
    {
     "data": {
      "text/plain": [
       "[]"
      ]
     },
     "execution_count": 29,
     "metadata": {},
     "output_type": "execute_result"
    }
   ],
   "source": [
    "print(\"Number of N-grams: \", len(prueba3))\n",
    "prueba3"
   ]
  },
  {
   "cell_type": "code",
   "execution_count": 45,
   "metadata": {},
   "outputs": [
    {
     "name": "stdout",
     "output_type": "stream",
     "text": [
      "Jaccard: 0.8181818181818182   Cosine: 0.9045340337332909\n"
     ]
    }
   ],
   "source": [
    "print(\"Jaccard: {}   Cosine: {}\".format(jaccard_distance(prueba1,prueba2), cosine_similarity_ngrams(prueba1,prueba2)))"
   ]
  },
  {
   "cell_type": "code",
   "execution_count": null,
   "metadata": {},
   "outputs": [],
   "source": [
    "#Cuando dos cadenas son muy similares, tienen muchos n-grams en común"
   ]
  },
  {
   "cell_type": "code",
   "execution_count": 46,
   "metadata": {},
   "outputs": [
    {
     "name": "stdout",
     "output_type": "stream",
     "text": [
      "Los elementos comunes de las cadenas son:  9 \n",
      " {('probar', 'n', 'grams'), ('este', 'es', 'un'), ('hola', 'este', 'es'), ('un', 'texto', 'de'), ('de', 'prueba', 'para'), ('para', 'probar', 'n'), ('prueba', 'para', 'probar'), ('es', 'un', 'texto'), ('texto', 'de', 'prueba')}\n"
     ]
    }
   ],
   "source": [
    "aux = set(prueba1) & set(prueba2)\n",
    "print(\"Los elementos comunes de las cadenas son: \",len(aux), \"\\n\", aux)"
   ]
  },
  {
   "cell_type": "code",
   "execution_count": 107,
   "metadata": {},
   "outputs": [
    {
     "data": {
      "text/plain": [
       "0.8181818181818182"
      ]
     },
     "execution_count": 107,
     "metadata": {},
     "output_type": "execute_result"
    }
   ],
   "source": [
    "9/11 #el coeficiente de JACCARD es el nro de n-grams en común entre las 2 cadenas, dividido por el nro de n-grams de la cadena de mayor longitud"
   ]
  },
  {
   "cell_type": "code",
   "execution_count": 110,
   "metadata": {},
   "outputs": [
    {
     "data": {
      "text/plain": [
       "1.0"
      ]
     },
     "execution_count": 110,
     "metadata": {},
     "output_type": "execute_result"
    }
   ],
   "source": [
    "9/9 #El coeficiente de OVERLAP, es el nro de n-grams en común, dividido en en nro de n-grams de la cadena de menor longitud"
   ]
  },
  {
   "cell_type": "code",
   "execution_count": 111,
   "metadata": {},
   "outputs": [
    {
     "data": {
      "text/plain": [
       "0.9"
      ]
     },
     "execution_count": 111,
     "metadata": {},
     "output_type": "execute_result"
    }
   ],
   "source": [
    "9/10 # Coeficiente de DICE, el nro de n-grams en común de ambas cadenas, dividido por el nro medio o media(promedio) de n-grams entre ambas cadenas"
   ]
  },
  {
   "cell_type": "code",
   "execution_count": null,
   "metadata": {},
   "outputs": [],
   "source": []
  },
  {
   "attachments": {
    "image.png": {
     "image/png": "[encoded data removed]"
    }
   },
   "cell_type": "markdown",
   "metadata": {},
   "source": [
    "![image.png](attachment:image.png)"
   ]
  },
  {
   "cell_type": "code",
   "execution_count": 36,
   "metadata": {},
   "outputs": [
    {
     "data": {
      "text/plain": [
       "{' ', 'a', 'c', 'e', 'i', 'l', 'n', 'p', 'r', 'v', 'z', 'ó'}"
      ]
     },
     "execution_count": 36,
     "metadata": {},
     "output_type": "execute_result"
    }
   ],
   "source": [
    "a = 'ivan perez alarcón'\n",
    "set(a)"
   ]
  },
  {
   "cell_type": "markdown",
   "metadata": {},
   "source": [
    "# Ejemplo fórmula q-grams a implementar"
   ]
  },
  {
   "cell_type": "code",
   "execution_count": 75,
   "metadata": {},
   "outputs": [],
   "source": [
    "reg_entrada = \"Ivan Perez A\"\n",
    "dicc_datos = \"Ivan Alejandro Perez Alarcon\"\n",
    "\n",
    "reg_entrada_ngrams = get_tuples_nosentences(reg_entrada)\n",
    "dicc_datos_ngrams = get_tuples_nosentences(dicc_datos)"
   ]
  },
  {
   "cell_type": "code",
   "execution_count": 87,
   "metadata": {},
   "outputs": [
    {
     "data": {
      "text/plain": [
       "[('Resort', 'Hotel')]"
      ]
     },
     "execution_count": 87,
     "metadata": {},
     "output_type": "execute_result"
    }
   ],
   "source": [
    "val_1 = 'Resort Hotel'\n",
    "val_2 = 'City Hotel'\n",
    "ngrams_val1 = get_tuples_nosentences(val_1)\n",
    "ngrams_val2 = get_tuples_nosentences(val_2)\n",
    "ngrams_val1"
   ]
  },
  {
   "cell_type": "code",
   "execution_count": 88,
   "metadata": {},
   "outputs": [
    {
     "data": {
      "text/plain": [
       "[('City', 'Hotel')]"
      ]
     },
     "execution_count": 88,
     "metadata": {},
     "output_type": "execute_result"
    }
   ],
   "source": [
    "ngrams_val2"
   ]
  },
  {
   "cell_type": "code",
   "execution_count": 77,
   "metadata": {},
   "outputs": [
    {
     "data": {
      "text/plain": [
       "[('Ivan', 'Perez', 'A')]"
      ]
     },
     "execution_count": 77,
     "metadata": {},
     "output_type": "execute_result"
    }
   ],
   "source": [
    "reg_entrada_ngrams"
   ]
  },
  {
   "cell_type": "code",
   "execution_count": 78,
   "metadata": {},
   "outputs": [
    {
     "data": {
      "text/plain": [
       "[('Ivan', 'Alejandro', 'Perez'), ('Alejandro', 'Perez', 'Alarcon')]"
      ]
     },
     "execution_count": 78,
     "metadata": {},
     "output_type": "execute_result"
    }
   ],
   "source": [
    "dicc_datos_ngrams"
   ]
  },
  {
   "cell_type": "code",
   "execution_count": 60,
   "metadata": {},
   "outputs": [
    {
     "name": "stdout",
     "output_type": "stream",
     "text": [
      "Jaccard: 0.0   Cosine: 0.0\n"
     ]
    }
   ],
   "source": [
    "print(\"Jaccard: {}   Cosine: {}\".format(jaccard_distance(reg_entrada_ngrams,dicc_datos_ngrams), cosine_similarity_ngrams(reg_entrada_ngrams,dicc_datos_ngrams)))"
   ]
  },
  {
   "cell_type": "code",
   "execution_count": 61,
   "metadata": {},
   "outputs": [
    {
     "name": "stdout",
     "output_type": "stream",
     "text": [
      "Jaccard: 0.6666666666666666   Cosine: 0.84375\n"
     ]
    }
   ],
   "source": [
    "print(\"Jaccard: {}   Cosine: {}\".format(jaccard_distance(reg_entrada,dicc_datos), cosine_similarity_ngrams(reg_entrada,dicc_datos)))"
   ]
  },
  {
   "cell_type": "code",
   "execution_count": null,
   "metadata": {},
   "outputs": [],
   "source": [
    "def q_gramsAB_ind_sim(cadena_1,cadena_2):\n",
    "    "
   ]
  }
 ],
 "metadata": {
  "kernelspec": {
   "display_name": "Python 3",
   "language": "python",
   "name": "python3"
  },
  "language_info": {
   "codemirror_mode": {
    "name": "ipython",
    "version": 3
   },
   "file_extension": ".py",
   "mimetype": "text/x-python",
   "name": "python",
   "nbconvert_exporter": "python",
   "pygments_lexer": "ipython3",
   "version": "3.8.3"
  }
 },
 "nbformat": 4,
 "nbformat_minor": 4
}
