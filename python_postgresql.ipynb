{
 "cells": [
  {
   "cell_type": "code",
   "execution_count": 65,
   "metadata": {},
   "outputs": [],
   "source": [
    "import psycopg2"
   ]
  },
  {
   "cell_type": "code",
   "execution_count": 79,
   "metadata": {},
   "outputs": [],
   "source": [
    "localhost = 'localhost'\n",
    "data_base = 'postgres'\n",
    "user_1 = 'postgres'\n",
    "pass_word = 'admin'\n",
    "\n",
    "#database = 'TRABAJO_DE_TITULO'\n",
    "#user = 'postgres'\n",
    "#Schema = 'pruebas'\n",
    "#owner = postgres"
   ]
  },
  {
   "cell_type": "code",
   "execution_count": 80,
   "metadata": {},
   "outputs": [],
   "source": [
    "conexion = psycopg2.connect(host=localhost, database=data_base, user= user_1, password=pass_word, port = 5433)"
   ]
  },
  {
   "cell_type": "code",
   "execution_count": 81,
   "metadata": {},
   "outputs": [],
   "source": [
    "cur = conexion.cursor()"
   ]
  },
  {
   "cell_type": "code",
   "execution_count": 82,
   "metadata": {},
   "outputs": [],
   "source": [
    "cur.execute( \"SELECT clienteid, cedula_ruc, nombrecia, nombrecontacto, direccioncli, fax, email, celular, fijo FROM public.clientes;\" )"
   ]
  },
  {
   "cell_type": "code",
   "execution_count": 83,
   "metadata": {},
   "outputs": [
    {
     "name": "stdout",
     "output_type": "stream",
     "text": [
      "(1, '1890786576', 'SUPERMERCADO ESTRELLA         ', 'JUAN ALBAN                                        ', 'AV.AMAZONAS                                       ', None, None, None, None)\n",
      "(2, '1298765477', 'EL ROSADO                     ', 'MARIA CORDERO                                     ', 'AV.AEL INCA                                       ', None, None, None, None)\n",
      "(3, '1009876567', 'DISTRIBUIDORA PRENSA          ', 'PEDRO PINTO                                       ', 'EL PINAR                                          ', None, None, None, None)\n",
      "(4, '1876090006', 'SU TIENDA                     ', 'PABLO PONCE                                       ', 'AV.AMAZONAS                                       ', None, None, None, None)\n",
      "(5, '1893456776', 'SUPERMERCADO DORADO           ', 'LORENA PAZ                                        ', 'AV.6 DICIEMBRE                                    ', None, None, None, None)\n",
      "(6, '1678999891', 'MI COMISARIATO                ', 'ROSARIO UTRERAS                                   ', 'AV.AMAZONAS                                       ', None, None, None, None)\n",
      "(7, '1244567888', 'SUPERMERCADO DESCUENTO        ', 'LETICIA ORTEGA                                    ', 'AV.LA PRENSA                                      ', None, None, None, None)\n",
      "(8, '1456799022', 'EL DESCUENTO                  ', 'JUAN TORRES                                       ', 'AV.PATRIA                                         ', None, None, None, None)\n",
      "(9, '1845677777', 'DE LUISE                      ', 'JORGE PARRA                                       ', 'AV.AMAZONAS                                       ', None, None, None, None)\n",
      "(10, '183445667 ', 'YARBANTRELLA                  ', 'PABLO POLIT                                       ', 'AV.REPUBLICA                                      ', None, None, None, None)\n"
     ]
    }
   ],
   "source": [
    "for i in cur.fetchall():\n",
    "    print(i)"
   ]
  },
  {
   "cell_type": "code",
   "execution_count": 72,
   "metadata": {},
   "outputs": [],
   "source": [
    "cur.execute(\"insert into ivan.t_prueba(campo_1) values ('valor_de_prueba_desdepython'); commit;\")"
   ]
  },
  {
   "cell_type": "code",
   "execution_count": 73,
   "metadata": {},
   "outputs": [],
   "source": [
    "valor_1 = 'VALOR POR VARIABLES, DESDE PYTHON'\n",
    "cur.execute(\"insert into ivan.t_prueba(campo_1) values (%(valor)s); commit;\",{\"valor\":valor_1})"
   ]
  },
  {
   "cell_type": "code",
   "execution_count": 74,
   "metadata": {},
   "outputs": [],
   "source": [
    "valor_2 = 10\n",
    "cur.execute(\"insert into ivan.t_prueba_nums(campo_1) values (%(valor)s); commit;\",{\"valor\":valor_2})"
   ]
  },
  {
   "cell_type": "code",
   "execution_count": 78,
   "metadata": {},
   "outputs": [],
   "source": [
    "valor_2 = 10\n",
    "cur.execute(\"insert into ivan.t_prueba_nums(campo_1) values (%(valor)s); commit;\",{\"valor\":valor_2})"
   ]
  }
 ],
 "metadata": {
  "kernelspec": {
   "display_name": "Python 3",
   "language": "python",
   "name": "python3"
  },
  "language_info": {
   "codemirror_mode": {
    "name": "ipython",
    "version": 3
   },
   "file_extension": ".py",
   "mimetype": "text/x-python",
   "name": "python",
   "nbconvert_exporter": "python",
   "pygments_lexer": "ipython3",
   "version": "3.8.3"
  }
 },
 "nbformat": 4,
 "nbformat_minor": 4
}
