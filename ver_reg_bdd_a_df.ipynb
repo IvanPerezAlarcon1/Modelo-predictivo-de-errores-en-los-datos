{
 "cells": [
  {
   "cell_type": "markdown",
   "metadata": {},
   "source": [
    "# VER REG DE COLUMNAS YA EXISTENTES EN LA BDD"
   ]
  },
  {
   "cell_type": "code",
   "execution_count": 1,
   "metadata": {},
   "outputs": [],
   "source": [
    "import psycopg2\n",
    "\n",
    "localhost = 'localhost'\n",
    "#data_base = 'postgres'\n",
    "data_base = 'TRABAJO_DE_TITULO'\n",
    "user_1 = 'postgres'\n",
    "pass_word = 'admin'"
   ]
  },
  {
   "cell_type": "code",
   "execution_count": 2,
   "metadata": {},
   "outputs": [],
   "source": [
    "conexion = psycopg2.connect(host=localhost, database=data_base, user= user_1, password=pass_word, port = 5433)\n",
    "cur = conexion.cursor()"
   ]
  },
  {
   "cell_type": "code",
   "execution_count": 3,
   "metadata": {},
   "outputs": [
    {
     "data": {
      "text/plain": [
       "[]"
      ]
     },
     "execution_count": 3,
     "metadata": {},
     "output_type": "execute_result"
    }
   ],
   "source": [
    "tabla_bdd_diccionario = {}\n",
    "tabla_bdd_diccionario.setdefault('COLUMNAS',[])\n",
    "tabla_bdd_diccionario.setdefault('TYPES',[])"
   ]
  },
  {
   "cell_type": "code",
   "execution_count": 4,
   "metadata": {},
   "outputs": [],
   "source": [
    "cur.execute('SELECT \"ID\", \"NOM_COL\", \"TIPO_DATO\" FROM pruebas.\"DICCIONARIO_DE_DATOS\";')"
   ]
  },
  {
   "cell_type": "code",
   "execution_count": 5,
   "metadata": {
    "scrolled": true
   },
   "outputs": [
    {
     "name": "stdout",
     "output_type": "stream",
     "text": [
      "3  -  hotel  -  object\n",
      "4  -  is_canceled  -  int64\n",
      "5  -  lead_time  -  int64\n",
      "6  -  arrival_date_year  -  int64\n",
      "7  -  arrival_date_month  -  object\n",
      "8  -  arrival_date_week_number  -  int64\n",
      "9  -  arrival_date_day_of_month  -  int64\n",
      "10  -  stays_in_weekend_nights  -  int64\n",
      "11  -  stays_in_week_nights  -  int64\n",
      "12  -  adults  -  int64\n",
      "13  -  children  -  float64\n",
      "14  -  babies  -  int64\n",
      "15  -  meal  -  object\n",
      "16  -  country  -  object\n",
      "17  -  market_segment  -  object\n",
      "18  -  distribution_channel  -  object\n",
      "19  -  is_repeated_guest  -  int64\n",
      "20  -  previous_cancellations  -  int64\n",
      "21  -  previous_bookings_not_canceled  -  int64\n",
      "22  -  reserved_room_type  -  object\n",
      "23  -  assigned_room_type  -  object\n",
      "24  -  booking_changes  -  int64\n",
      "25  -  deposit_type  -  object\n",
      "26  -  agent  -  float64\n",
      "27  -  company  -  float64\n",
      "28  -  days_in_waiting_list  -  int64\n",
      "29  -  customer_type  -  object\n",
      "30  -  adr  -  float64\n",
      "31  -  required_car_parking_spaces  -  int64\n",
      "32  -  total_of_special_requests  -  int64\n",
      "33  -  reservation_status  -  object\n",
      "34  -  reservation_status_date  -  object\n",
      "36  -  hotel  -  object\n"
     ]
    }
   ],
   "source": [
    "for i in cur.fetchall():\n",
    "    print(i[0],\" - \",i[1],\" - \",i[2])\n",
    "    tabla_bdd_diccionario[\"COLUMNAS\"].append(i[1])\n",
    "    tabla_bdd_diccionario[\"TYPES\"].append(i[2])"
   ]
  },
  {
   "cell_type": "code",
   "execution_count": 6,
   "metadata": {
    "scrolled": true
   },
   "outputs": [
    {
     "data": {
      "text/plain": [
       "{'COLUMNAS': ['hotel',\n",
       "  'is_canceled',\n",
       "  'lead_time',\n",
       "  'arrival_date_year',\n",
       "  'arrival_date_month',\n",
       "  'arrival_date_week_number',\n",
       "  'arrival_date_day_of_month',\n",
       "  'stays_in_weekend_nights',\n",
       "  'stays_in_week_nights',\n",
       "  'adults',\n",
       "  'children',\n",
       "  'babies',\n",
       "  'meal',\n",
       "  'country',\n",
       "  'market_segment',\n",
       "  'distribution_channel',\n",
       "  'is_repeated_guest',\n",
       "  'previous_cancellations',\n",
       "  'previous_bookings_not_canceled',\n",
       "  'reserved_room_type',\n",
       "  'assigned_room_type',\n",
       "  'booking_changes',\n",
       "  'deposit_type',\n",
       "  'agent',\n",
       "  'company',\n",
       "  'days_in_waiting_list',\n",
       "  'customer_type',\n",
       "  'adr',\n",
       "  'required_car_parking_spaces',\n",
       "  'total_of_special_requests',\n",
       "  'reservation_status',\n",
       "  'reservation_status_date',\n",
       "  'hotel'],\n",
       " 'TYPES': ['object',\n",
       "  'int64',\n",
       "  'int64',\n",
       "  'int64',\n",
       "  'object',\n",
       "  'int64',\n",
       "  'int64',\n",
       "  'int64',\n",
       "  'int64',\n",
       "  'int64',\n",
       "  'float64',\n",
       "  'int64',\n",
       "  'object',\n",
       "  'object',\n",
       "  'object',\n",
       "  'object',\n",
       "  'int64',\n",
       "  'int64',\n",
       "  'int64',\n",
       "  'object',\n",
       "  'object',\n",
       "  'int64',\n",
       "  'object',\n",
       "  'float64',\n",
       "  'float64',\n",
       "  'int64',\n",
       "  'object',\n",
       "  'float64',\n",
       "  'int64',\n",
       "  'int64',\n",
       "  'object',\n",
       "  'object',\n",
       "  'object']}"
      ]
     },
     "execution_count": 6,
     "metadata": {},
     "output_type": "execute_result"
    }
   ],
   "source": [
    "tabla_bdd_diccionario"
   ]
  },
  {
   "cell_type": "code",
   "execution_count": null,
   "metadata": {},
   "outputs": [],
   "source": []
  }
 ],
 "metadata": {
  "kernelspec": {
   "display_name": "Python 3",
   "language": "python",
   "name": "python3"
  },
  "language_info": {
   "codemirror_mode": {
    "name": "ipython",
    "version": 3
   },
   "file_extension": ".py",
   "mimetype": "text/x-python",
   "name": "python",
   "nbconvert_exporter": "python",
   "pygments_lexer": "ipython3",
   "version": "3.8.3"
  }
 },
 "nbformat": 4,
 "nbformat_minor": 4
}
